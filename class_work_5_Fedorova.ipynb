{
  "nbformat": 4,
  "nbformat_minor": 0,
  "metadata": {
    "colab": {
      "name": "class_work_5_Fedorova.ipynb",
      "provenance": []
    },
    "kernelspec": {
      "name": "python3",
      "display_name": "Python 3"
    },
    "language_info": {
      "name": "python"
    }
  },
  "cells": [
    {
      "cell_type": "markdown",
      "metadata": {
        "id": "G9mleRwCSkja"
      },
      "source": [
        "Задание 1.\n",
        "\n",
        "Даны четыре действительных числа: x1, y1, x2, y2.\n",
        "\n",
        "Напишите функцию distance(x1, y1, x2, y2), вычисляющая расстояние между точкой (x1,y1) и (x2,y2).\n",
        "\n",
        "Считайте четыре действительных числа с клавиатуры и выведите результат работы этой функции."
      ]
    },
    {
      "cell_type": "code",
      "metadata": {
        "colab": {
          "base_uri": "https://localhost:8080/"
        },
        "id": "mZppxVWkSiTb",
        "outputId": "32f92ba8-bb4c-428f-fee1-bc551c4a4bdb"
      },
      "source": [
        "from math import sqrt\n",
        " \n",
        "def distance(x1, y1, x2, y2):\n",
        "    return sqrt((x1 - x2) ** 2 + (y1 - y2) ** 2)\n",
        " \n",
        "x1 = float(input())\n",
        "x2 = float(input())\n",
        "y1 = float(input())\n",
        "y2 = float(input())\n",
        "\n",
        "print(distance(x1, x2, y1, y2))"
      ],
      "execution_count": 12,
      "outputs": [
        {
          "output_type": "stream",
          "name": "stdout",
          "text": [
            "3\n",
            "6\n",
            "4\n",
            "7\n",
            "1.4142135623730951\n"
          ]
        }
      ]
    },
    {
      "cell_type": "markdown",
      "metadata": {
        "id": "LvrK0TagSmuY"
      },
      "source": [
        "Задание 2.\n",
        "\n",
        "Даны два списка А и В одинаковой длины. Создайте новый список С в котором какждый новый элемент формируется как:\n",
        "\n",
        "если значение элемента списка А[i] четное, то С[i] = A[i]*B[i]\n",
        "если значение элемента списка A[i] нечетное, то С[i] = A[i]+B[i]"
      ]
    },
    {
      "cell_type": "code",
      "metadata": {
        "colab": {
          "base_uri": "https://localhost:8080/"
        },
        "id": "sGAoLvQ3SnE3",
        "outputId": "520774cd-8e6f-4348-f9ab-687999ba7f72"
      },
      "source": [
        "A = list(map(int, input().split()))\n",
        "B = list(map(int, input().split()))\n",
        "C = B\n",
        "for i in range(len(A)):\n",
        "  if A[i] % 2 == 0:\n",
        "    C[i] = A[i] * B[i]\n",
        "  else:\n",
        "    C[i] = A[i] + B[i]\n",
        "print(C)"
      ],
      "execution_count": 10,
      "outputs": [
        {
          "output_type": "stream",
          "name": "stdout",
          "text": [
            "8976\n",
            "8736\n",
            "[78414336]\n"
          ]
        }
      ]
    },
    {
      "cell_type": "markdown",
      "metadata": {
        "id": "qrRDSm0sSnSp"
      },
      "source": [
        "Задание 3.\n",
        "\n",
        "Найти минимальный элемент в векторе x среди элементов, после которых стоит нулевой.\n",
        "\n",
        "Для x = np.array([6, 2, 0, 3, 0, 0, 1, 7, 0]) ответ 2.\n",
        "\n"
      ]
    },
    {
      "cell_type": "code",
      "metadata": {
        "colab": {
          "base_uri": "https://localhost:8080/"
        },
        "id": "xY7R6SPGSnn4",
        "outputId": "f11ee948-a65b-4e05-f770-26638b451ad9"
      },
      "source": [
        "import numpy as np\n",
        "x = np.array([6, 2, 0, 3, 0, 0, 1, 7, 0])\n",
        "min = 7\n",
        "for i in range(len(x) - 1):\n",
        "  if x[i + 1] == 0 and x[i] < min and x[i] != 0:\n",
        "    min = x[i]\n",
        "print(min)"
      ],
      "execution_count": 13,
      "outputs": [
        {
          "output_type": "stream",
          "name": "stdout",
          "text": [
            "2\n"
          ]
        }
      ]
    }
  ]
}