{
  "nbformat": 4,
  "nbformat_minor": 0,
  "metadata": {
    "colab": {
      "name": "home_work_2_Kudinov.ipynb",
      "provenance": [],
      "collapsed_sections": []
    },
    "kernelspec": {
      "name": "python3",
      "display_name": "Python 3"
    },
    "language_info": {
      "name": "python"
    }
  },
  "cells": [
    {
      "cell_type": "code",
      "metadata": {
        "colab": {
          "base_uri": "https://localhost:8080/"
        },
        "id": "0jJ37dYl-bTM",
        "outputId": "70be5f97-c958-43f4-82f0-8cc3c5e0446b"
      },
      "source": [
        "#1 задача\n",
        "import math\n",
        "x3 = float(input())\n",
        "y3 = float(input())\n",
        "x4 = float(input())\n",
        "y4 = float(input())\n",
        "def distance(x1, y1, x2, y2):\n",
        "  a = x2-x1\n",
        "  b = y2-y1\n",
        "  c = math.sqrt(a**2 + b**2)\n",
        "  return c\n",
        "distance(x3,y3,x4,y4)"
      ],
      "execution_count": 22,
      "outputs": [
        {
          "name": "stdout",
          "output_type": "stream",
          "text": [
            "0\n",
            "0\n",
            "3\n",
            "4\n"
          ]
        },
        {
          "output_type": "execute_result",
          "data": {
            "text/plain": [
              "5.0"
            ]
          },
          "metadata": {},
          "execution_count": 22
        }
      ]
    },
    {
      "cell_type": "code",
      "metadata": {
        "id": "xJhqIDn09MnW",
        "colab": {
          "base_uri": "https://localhost:8080/",
          "height": 52
        },
        "outputId": "3f3f96d3-a5e8-4311-c7a1-fb03eb7e576d"
      },
      "source": [
        "#2 задача\n",
        "s = 0 \n",
        "a =int(input())\n",
        "def season(month):\n",
        "  if a<=2:\n",
        "    s = 'зима'\n",
        "  elif a>2 and a<=5:\n",
        "    s = 'весна'\n",
        "  elif a>5 and a<=8:\n",
        "    s = 'лето'\n",
        "  elif a>8 and a<=11:\n",
        "    s = 'осень'\n",
        "  elif a==12:\n",
        "    s = 'зима'\n",
        "  return s\n",
        "season(a) \n"
      ],
      "execution_count": 21,
      "outputs": [
        {
          "name": "stdout",
          "output_type": "stream",
          "text": [
            "5\n"
          ]
        },
        {
          "output_type": "execute_result",
          "data": {
            "application/vnd.google.colaboratory.intrinsic+json": {
              "type": "string"
            },
            "text/plain": [
              "'весна'"
            ]
          },
          "metadata": {},
          "execution_count": 21
        }
      ]
    },
    {
      "cell_type": "code",
      "metadata": {
        "colab": {
          "base_uri": "https://localhost:8080/"
        },
        "id": "5oQHhAebBRt3",
        "outputId": "b389a20e-b3f1-43cc-b37e-c43f01fb6a9a"
      },
      "source": [
        "#4 задача\n",
        "lst = [8, 1, 0, 4]\n",
        "def reverse_list(lst):\n",
        "  lst = lst[::-1]\n",
        "  return lst\n",
        "print(reverse_list(lst))"
      ],
      "execution_count": 28,
      "outputs": [
        {
          "output_type": "stream",
          "name": "stdout",
          "text": [
            "[4, 0, 1, 8]\n"
          ]
        }
      ]
    },
    {
      "cell_type": "code",
      "metadata": {
        "colab": {
          "base_uri": "https://localhost:8080/"
        },
        "id": "o7vqCbWDHydQ",
        "outputId": "dbc56441-87d5-4eb4-af87-1f5e4c977b34"
      },
      "source": [
        "#5 задача\n",
        "print(str.upper('Привет мир!'[3:8]))"
      ],
      "execution_count": 29,
      "outputs": [
        {
          "output_type": "stream",
          "name": "stdout",
          "text": [
            "ВЕТ М\n"
          ]
        }
      ]
    },
    {
      "cell_type": "code",
      "metadata": {
        "colab": {
          "base_uri": "https://localhost:8080/"
        },
        "id": "eY6douvQIS6t",
        "outputId": "e0e6edcb-2b0a-465f-d46d-651036d518fe"
      },
      "source": [
        "#6 задача\n",
        "x = [0, 1, 2, 3, 4, 5, 6, 7, 8, 9]\n",
        "for i in range(1, int(len(x) / 2), 2):\n",
        "  if len(x)%2:\n",
        "    x[i], x[-i-1] = x[-i-1], x[i]\n",
        "  else:\n",
        "    x[i], x[-i] = x[-i], x[i]\n",
        "print(x)"
      ],
      "execution_count": 33,
      "outputs": [
        {
          "output_type": "stream",
          "name": "stdout",
          "text": [
            "[0, 9, 2, 7, 4, 5, 6, 3, 8, 1]\n"
          ]
        }
      ]
    },
    {
      "cell_type": "code",
      "metadata": {
        "colab": {
          "base_uri": "https://localhost:8080/"
        },
        "id": "28mLl4_-LRJ-",
        "outputId": "15b40ee5-baca-470a-82bf-b822ada6cc66"
      },
      "source": [
        "#7 задача\n",
        "for i in range(501):\n",
        "  if i%7==0 and '8' in str(i):\n",
        "    print(i)"
      ],
      "execution_count": 34,
      "outputs": [
        {
          "output_type": "stream",
          "name": "stdout",
          "text": [
            "28\n",
            "84\n",
            "98\n",
            "168\n",
            "182\n",
            "189\n",
            "238\n",
            "280\n",
            "287\n",
            "308\n",
            "378\n",
            "385\n",
            "448\n",
            "483\n"
          ]
        }
      ]
    },
    {
      "cell_type": "code",
      "metadata": {
        "colab": {
          "base_uri": "https://localhost:8080/"
        },
        "id": "Yualcc_PL_8N",
        "outputId": "2f5e54a6-9d8f-47ca-90ba-f1b3ff1f4bcf"
      },
      "source": [
        "#8 задача\n",
        "def more_than_five(lst):\n",
        "  n = [i for i in lst if abs(i) > 10 ]\n",
        "  return n\n",
        "print(more_than_five([3, 54, 67, 10, 50, -40, -43, 4]))"
      ],
      "execution_count": 41,
      "outputs": [
        {
          "output_type": "stream",
          "name": "stdout",
          "text": [
            "[54, 67, 50, -40, -43]\n"
          ]
        }
      ]
    }
  ]
}