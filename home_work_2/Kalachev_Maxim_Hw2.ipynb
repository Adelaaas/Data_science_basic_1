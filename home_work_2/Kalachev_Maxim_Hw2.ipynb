{
  "nbformat": 4,
  "nbformat_minor": 0,
  "metadata": {
    "colab": {
      "name": "Kalachev_Maxim_10I2_SR",
      "provenance": [],
      "collapsed_sections": []
    },
    "kernelspec": {
      "name": "python3",
      "display_name": "Python 3"
    },
    "language_info": {
      "name": "python"
    }
  },
  "cells": [
    {
      "cell_type": "code",
      "metadata": {
        "id": "-FnfN2S5eFmN",
        "colab": {
          "base_uri": "https://localhost:8080/"
        },
        "outputId": "6934700a-8de1-4d0c-b8ba-56a5a467d6fc"
      },
      "source": [
        "#Hw1\n",
        "#1\n",
        "def distance(x1, y1, x2, y2):\n",
        "    return ((x2 - x1) ** 2 + (y2 - y1) ** 2) ** 0.5\n",
        "x1 = int(input())\n",
        "y1 = int(input())\n",
        "\n",
        "x2 =int(input())\n",
        "y2 = int(input())\n",
        "distance(x1, y1, x2, y2)\n",
        "\n",
        "#2\n",
        "a = \"время года\"\n",
        "def season(b):\n",
        "    if b == 1 or b == 2 or b == 12:\n",
        "        a = \"зима\"\n",
        "        return a\n",
        "    elif 3 <= b <= 5:\n",
        "        a = \"весна\"\n",
        "        return a\n",
        "    elif 6 <= b <= 8:\n",
        "        a = \"лето\"\n",
        "        return a\n",
        "    elif 9 <= b <= 11:\n",
        "        a = \"осень\"\n",
        "        return a\n",
        "b = int(input())\n",
        "season(b)\n",
        "\n",
        "\n",
        "#3\n",
        "def a(b):\n",
        "    flag = True\n",
        "    for i in range(2, b):\n",
        "        if b % i == 0:\n",
        "            flag = False\n",
        "            break\n",
        "    return flag\n",
        "b = int(input())\n",
        "a(b)\n",
        "\n",
        "\n",
        "#4\n",
        "a = [8, 1, 0, 4]\n",
        "def b(a, x = 0):\n",
        "    if len(a) <= 1:\n",
        "        return a\n",
        "    a[x], a[-x - 1] = a[-x - 1], a[x]\n",
        "    if x + 1 != int(len(a) / 2):\n",
        "        return b(a, x + 1)\n",
        "    return a\n",
        "print(b(a))\n",
        "\n",
        "\n",
        "#5\n",
        "print(\"Прив\" + str.upper('Привет мир!'[4:8]) + \"р!\")\n",
        "\n",
        "\n",
        "#6\n",
        "a = [0, 1, 2, 3, 4, 5, 6, 7, 8, 9]\n",
        "for i in range(1, int(len(a) / 2), 2):\n",
        "    if not len(a) % 2:\n",
        "        a[i], a[-i] = a[-i], a[i]\n",
        "    else:\n",
        "        a[i], a[-i - 1] = a[-i - 1], a[i]\n",
        "print(a)\n",
        "\n",
        "\n",
        "7#\n",
        "for i in range(501):\n",
        "    if i%7 == 0 and (i%10 == 8 or i/10 == 8 or i%100/10 == 8):\n",
        "        print(i)\n",
        "\n",
        "\n",
        "8#\n",
        "a2 = []\n",
        "def more_than_five(a):\n",
        "    for c in range(len(a)):\n",
        "        if abs(a[c]) > 10:\n",
        "            lst2.append(a[c])\n",
        "    return a2\n",
        "b = list(input())\n",
        "print(more_than_five(b))"
      ],
      "execution_count": 4,
      "outputs": [
        {
          "output_type": "stream",
          "name": "stdout",
          "text": [
            "ПривЕТ МИр!\n"
          ]
        }
      ]
    }
  ]
}