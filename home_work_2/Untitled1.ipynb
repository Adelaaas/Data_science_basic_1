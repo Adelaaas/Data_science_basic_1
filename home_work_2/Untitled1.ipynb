{
  "nbformat": 4,
  "nbformat_minor": 0,
  "metadata": {
    "colab": {
      "name": "Untitled1.ipynb",
      "provenance": []
    },
    "kernelspec": {
      "name": "python3",
      "display_name": "Python 3"
    },
    "language_info": {
      "name": "python"
    }
  },
  "cells": [
    {
      "cell_type": "markdown",
      "metadata": {
        "id": "oVLWeFD-HFHH"
      },
      "source": [
        "1 задание"
      ]
    },
    {
      "cell_type": "code",
      "metadata": {
        "id": "yfltFGEYAM6y"
      },
      "source": [
        "from math import sqrt\n",
        "def distance(x1, y1, x2, y2):\n",
        "  s = sqrt((x2-x1)**2 + (y2-y1)**2)\n",
        "  return s"
      ],
      "execution_count": 13,
      "outputs": []
    },
    {
      "cell_type": "markdown",
      "metadata": {
        "id": "hIg6vrQgHAl_"
      },
      "source": [
        "2 задание"
      ]
    },
    {
      "cell_type": "code",
      "metadata": {
        "id": "X5tWFqE_HTCb"
      },
      "source": [
        "def season(month):\n",
        "  global s\n",
        "  if month == 12 or month == 1 or month == 2:\n",
        "    s = \"Зима\"\n",
        "  elif month == 3 or month == 4 or month == 5:\n",
        "    s = \"Весна\"\n",
        "  elif month == 6 or month == 7 or month == 8:\n",
        "    s = \"Лето\"\n",
        "  elif month == 9 or month == 10 or month == 11:\n",
        "    s = \"Осень\""
      ],
      "execution_count": 12,
      "outputs": []
    },
    {
      "cell_type": "markdown",
      "metadata": {
        "id": "J6eosVn5IbKW"
      },
      "source": [
        "3 задание"
      ]
    },
    {
      "cell_type": "code",
      "metadata": {
        "id": "MUCTLZzJIa6D"
      },
      "source": [
        "def is_prime(s):\n",
        "  if s > 0 and s < 1000:\n",
        "    flag = True\n",
        "  else:\n",
        "    flag = False\n",
        "  return flag"
      ],
      "execution_count": 11,
      "outputs": []
    },
    {
      "cell_type": "markdown",
      "metadata": {
        "id": "P3m28CGXKwoZ"
      },
      "source": [
        "4 задание"
      ]
    },
    {
      "cell_type": "code",
      "metadata": {
        "id": "hzoGEHshIVio"
      },
      "source": [
        "def reverse_list(lst):\n",
        "  lst = [lst[i] for i in range(len(lst)-1, -1, -1)]\n",
        "  return lst"
      ],
      "execution_count": 10,
      "outputs": []
    },
    {
      "cell_type": "markdown",
      "metadata": {
        "id": "HA2EuKqnNJtJ"
      },
      "source": [
        "5 задание"
      ]
    },
    {
      "cell_type": "code",
      "metadata": {
        "id": "hSzlOpGbNSCq"
      },
      "source": [
        "text = \"Привет мир!\"\n",
        "print(text[4:9].upper())"
      ],
      "execution_count": null,
      "outputs": []
    },
    {
      "cell_type": "markdown",
      "metadata": {
        "id": "nfAdCjWbNWHQ"
      },
      "source": [
        "6 задание"
      ]
    },
    {
      "cell_type": "code",
      "metadata": {
        "id": "gpI_3GbUNY2q"
      },
      "source": [
        "-"
      ],
      "execution_count": null,
      "outputs": []
    },
    {
      "cell_type": "markdown",
      "metadata": {
        "id": "_xgocQR7NeJV"
      },
      "source": [
        "7 задание"
      ]
    },
    {
      "cell_type": "code",
      "metadata": {
        "id": "45Q6_UEmNZyr"
      },
      "source": [
        "for i in range(500):\n",
        "  if i % 7 == 0 and \"8\" in str(i):\n",
        "    print(i)"
      ],
      "execution_count": null,
      "outputs": []
    },
    {
      "cell_type": "markdown",
      "metadata": {
        "id": "Zze_OUpmNaQ4"
      },
      "source": [
        "8 задание"
      ]
    },
    {
      "cell_type": "code",
      "metadata": {
        "id": "5oyyb-XwNapB"
      },
      "source": [
        "def more_than_five(lst):\n",
        "  s = []\n",
        "  for i in lst:\n",
        "    if lst[i] >= 10 and lst[i] <=10:\n",
        "      s.append(lst[i])\n",
        "  print(s)"
      ],
      "execution_count": 18,
      "outputs": []
    }
  ]
}