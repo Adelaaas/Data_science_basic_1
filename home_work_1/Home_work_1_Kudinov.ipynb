{
  "nbformat": 4,
  "nbformat_minor": 0,
  "metadata": {
    "colab": {
      "name": "Home_work_1_Kudinov.ipynb",
      "provenance": [],
      "collapsed_sections": []
    },
    "kernelspec": {
      "name": "python3",
      "display_name": "Python 3"
    },
    "language_info": {
      "name": "python"
    }
  },
  "cells": [
    {
      "cell_type": "code",
      "metadata": {
        "id": "dEtoOVB95zhP"
      },
      "source": [
        "# задание 1\n",
        "text = [1, 2, 3, 4, 5, 6, 7]\n",
        "fer = [i for i in text(1,8)]\n",
        "fer2 = [[i]] * i for i in text if i % 2 == 0]\n",
        "print(fer, fer2)"
      ],
      "execution_count": null,
      "outputs": []
    },
    {
      "cell_type": "code",
      "metadata": {
        "colab": {
          "base_uri": "https://localhost:8080/"
        },
        "id": "w7a01T7xvdMq",
        "outputId": "a36bfc31-7227-44dd-e5c3-fe224fd19402"
      },
      "source": [
        "# задание 2\n",
        "x = int(input())\n",
        "y = int(input())\n",
        "if x>=-2 and x<=2 and y>=-2 and y<=2:\n",
        "  print('yes')\n",
        "else:\n",
        "  print('no')"
      ],
      "execution_count": 8,
      "outputs": [
        {
          "output_type": "stream",
          "name": "stdout",
          "text": [
            "2\n",
            "2\n",
            "yes\n"
          ]
        }
      ]
    },
    {
      "cell_type": "code",
      "metadata": {
        "colab": {
          "base_uri": "https://localhost:8080/"
        },
        "id": "xqiXa4B6wtvI",
        "outputId": "74cb3b55-fecd-4575-e536-2637a43eb750"
      },
      "source": [
        "# задание 3\n",
        "A = [1, 3, 5, 7, 2, 4, 6, 8]\n",
        "B = []\n",
        "for i in A:\n",
        "  if i%2==0:\n",
        "    B.append(i)\n",
        "print(B)"
      ],
      "execution_count": 9,
      "outputs": [
        {
          "output_type": "stream",
          "name": "stdout",
          "text": [
            "[2, 4, 6, 8]\n"
          ]
        }
      ]
    },
    {
      "cell_type": "code",
      "metadata": {
        "id": "s0ZU6CT-xwiu"
      },
      "source": [
        "# задание 4\n",
        "name = input()\n",
        "print(f'Привет, {name}')"
      ],
      "execution_count": null,
      "outputs": []
    },
    {
      "cell_type": "code",
      "metadata": {
        "colab": {
          "base_uri": "https://localhost:8080/"
        },
        "id": "GvYU1DwjyE4b",
        "outputId": "9e5d4b6f-7cd0-4c3d-c0df-0b9eaf7ded8c"
      },
      "source": [
        "# задание 5\n",
        "b = int(input())\n",
        "print(f'The next number for the number {b} is {b+1}. The previous number for the number {b} is {b-1}')"
      ],
      "execution_count": 11,
      "outputs": [
        {
          "output_type": "stream",
          "name": "stdout",
          "text": [
            "5\n",
            "The next number for the number 5 is 6. The previous number for the number 5 is 4\n"
          ]
        }
      ]
    }
  ]
}