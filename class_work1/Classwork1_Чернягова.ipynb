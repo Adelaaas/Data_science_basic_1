{
  "nbformat": 4,
  "nbformat_minor": 0,
  "metadata": {
    "colab": {
      "name": "Classwork1_Чернягова.ipynb",
      "provenance": []
    },
    "kernelspec": {
      "name": "python3",
      "display_name": "Python 3"
    },
    "language_info": {
      "name": "python"
    }
  },
  "cells": [
    {
      "cell_type": "code",
      "metadata": {
        "colab": {
          "base_uri": "https://localhost:8080/"
        },
        "id": "y8DfYvUrrpl2",
        "outputId": "d0723c8b-5e69-4c80-8c6e-7ee243a4eaf3"
      },
      "source": [
        "name = ['v', 'a', 'r', 'y', 'a', 17]\n",
        "print (name[1:5])\n",
        "name.append('11И')\n",
        "surname = 'Chernyagova'\n",
        "name.append(list(surname))\n",
        "print (name)"
      ],
      "execution_count": 7,
      "outputs": [
        {
          "output_type": "stream",
          "name": "stdout",
          "text": [
            "['a', 'r', 'y', 'a']\n",
            "['v', 'a', 'r', 'y', 'a', 17, '11И', ['C', 'h', 'e', 'r', 'n', 'y', 'a', 'g', 'o', 'v', 'a']]\n"
          ]
        }
      ]
    }
  ]
}