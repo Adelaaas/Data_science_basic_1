{
  "nbformat": 4,
  "nbformat_minor": 0,
  "metadata": {
    "colab": {
      "name": "Homework 3 Savinov.ipynb",
      "provenance": [],
      "collapsed_sections": []
    },
    "kernelspec": {
      "name": "python3",
      "display_name": "Python 3"
    },
    "language_info": {
      "name": "python"
    }
  },
  "cells": [
    {
      "cell_type": "code",
      "metadata": {
        "colab": {
          "base_uri": "https://localhost:8080/"
        },
        "id": "LexVVZTeMbHR",
        "outputId": "4571c703-6873-447a-b9cf-7883ed2dad7c"
      },
      "source": [
        "import numpy as np\n",
        "print(\"Задание №1:\")\n",
        "A = np.zeros((10, 10), int)\n",
        "A[0::9, ::] = A[::, 0::9] = 1\n",
        "print(A)"
      ],
      "execution_count": 3,
      "outputs": [
        {
          "output_type": "stream",
          "name": "stdout",
          "text": [
            "Задание №1\n",
            "[[1 1 1 1 1 1 1 1 1 1]\n",
            " [1 0 0 0 0 0 0 0 0 1]\n",
            " [1 0 0 0 0 0 0 0 0 1]\n",
            " [1 0 0 0 0 0 0 0 0 1]\n",
            " [1 0 0 0 0 0 0 0 0 1]\n",
            " [1 0 0 0 0 0 0 0 0 1]\n",
            " [1 0 0 0 0 0 0 0 0 1]\n",
            " [1 0 0 0 0 0 0 0 0 1]\n",
            " [1 0 0 0 0 0 0 0 0 1]\n",
            " [1 1 1 1 1 1 1 1 1 1]]\n"
          ]
        }
      ]
    },
    {
      "cell_type": "code",
      "metadata": {
        "colab": {
          "base_uri": "https://localhost:8080/"
        },
        "id": "AOIr1OsXNCUF",
        "outputId": "9855a947-376a-4c71-d209-d0a81de0f243"
      },
      "source": [
        "print(\"Задание №2:\")\n",
        "A = np.diag(range(1, 5), 1)\n",
        "print(A)"
      ],
      "execution_count": 4,
      "outputs": [
        {
          "output_type": "stream",
          "name": "stdout",
          "text": [
            "Задание №2\n",
            "[[0 1 0 0 0]\n",
            " [0 0 2 0 0]\n",
            " [0 0 0 3 0]\n",
            " [0 0 0 0 4]\n",
            " [0 0 0 0 0]]\n"
          ]
        }
      ]
    },
    {
      "cell_type": "code",
      "metadata": {
        "colab": {
          "base_uri": "https://localhost:8080/"
        },
        "id": "XmMRVWzGNYpv",
        "outputId": "c2b49ebf-720c-4db5-d89d-6eb2f155e80f"
      },
      "source": [
        "print(\"Задание №3:\")\n",
        "A = np.random.rand(5, 10)\n",
        "A1 = [A[i] - A[i].mean() for i in range(A.shape[0])]\n",
        "print(A1)"
      ],
      "execution_count": 9,
      "outputs": [
        {
          "output_type": "stream",
          "name": "stdout",
          "text": [
            "Задание №3\n",
            "[array([-0.27930309, -0.23399866,  0.27012691, -0.14907259,  0.24627402,\n",
            "       -0.30990414,  0.33444744,  0.2206826 ,  0.18088785, -0.28014034]), array([ 0.15459115,  0.17012543, -0.35115801, -0.5493268 ,  0.21150086,\n",
            "       -0.01707129,  0.11672915,  0.17784571, -0.31171376,  0.39847756]), array([ 0.20584982,  0.12641143, -0.37990882,  0.29582448,  0.06034446,\n",
            "       -0.23761332,  0.19213584,  0.07614869, -0.23527353, -0.10391906]), array([ 0.07038138, -0.37491136, -0.34614096,  0.02491634,  0.34468745,\n",
            "       -0.43090985,  0.26613125,  0.51358152,  0.32105609, -0.38879186]), array([-0.45246219, -0.52250903, -0.25679036,  0.41108607,  0.39761509,\n",
            "        0.03709578,  0.19514028,  0.30543648, -0.25905735,  0.14444523])]\n"
          ]
        }
      ]
    },
    {
      "cell_type": "code",
      "metadata": {
        "colab": {
          "base_uri": "https://localhost:8080/"
        },
        "id": "cviY1GwiN-Kv",
        "outputId": "99983276-41aa-4284-dd34-06f30031e167"
      },
      "source": [
        "print(\"Задание №4:\")\n",
        "A = np.random.rand(6, 7)\n",
        "print(f\"\\n{A}\")\n",
        "A[2::3, ::] = A[5::-3, ::]\n",
        "print(f\"\\n{A}\")"
      ],
      "execution_count": 12,
      "outputs": [
        {
          "output_type": "stream",
          "name": "stdout",
          "text": [
            "Задание №4\n",
            "\n",
            "[[0.0295954  0.40757439 0.64279394 0.77534951 0.3323233  0.1053807\n",
            "  0.78328381]\n",
            " [0.24544738 0.37384524 0.9647085  0.43293965 0.52329423 0.10853115\n",
            "  0.8884894 ]\n",
            " [0.05467634 0.51868923 0.66171543 0.72215845 0.92725155 0.25615144\n",
            "  0.50734609]\n",
            " [0.21870597 0.90734836 0.39165995 0.03388415 0.37739914 0.12487883\n",
            "  0.66215394]\n",
            " [0.50747049 0.51505702 0.68142913 0.18023505 0.26139216 0.78110811\n",
            "  0.80630493]\n",
            " [0.48658711 0.76242586 0.94180895 0.13813595 0.48796526 0.14181886\n",
            "  0.14924863]]\n",
            "\n",
            "[[0.0295954  0.40757439 0.64279394 0.77534951 0.3323233  0.1053807\n",
            "  0.78328381]\n",
            " [0.24544738 0.37384524 0.9647085  0.43293965 0.52329423 0.10853115\n",
            "  0.8884894 ]\n",
            " [0.48658711 0.76242586 0.94180895 0.13813595 0.48796526 0.14181886\n",
            "  0.14924863]\n",
            " [0.21870597 0.90734836 0.39165995 0.03388415 0.37739914 0.12487883\n",
            "  0.66215394]\n",
            " [0.50747049 0.51505702 0.68142913 0.18023505 0.26139216 0.78110811\n",
            "  0.80630493]\n",
            " [0.05467634 0.51868923 0.66171543 0.72215845 0.92725155 0.25615144\n",
            "  0.50734609]]\n"
          ]
        }
      ]
    },
    {
      "cell_type": "code",
      "metadata": {
        "colab": {
          "base_uri": "https://localhost:8080/"
        },
        "id": "7H6nxeRiN-QI",
        "outputId": "749e1640-1885-4acb-c5b1-085f470b08fa"
      },
      "source": [
        "print(\"Задание №5:\")\n",
        "a = []\n",
        "for i in range(4):\n",
        "    a.append([])\n",
        "    for j in range(6):\n",
        "        a[i].append(np.random.randint(1, 9))\n",
        "A = np.array(np.int32(a), int)\n",
        "print(A)"
      ],
      "execution_count": 17,
      "outputs": [
        {
          "output_type": "stream",
          "name": "stdout",
          "text": [
            "Задание №5\n",
            "[[6 3 7 5 7 6]\n",
            " [1 4 2 7 6 7]\n",
            " [3 2 6 4 5 6]\n",
            " [8 7 8 2 8 4]]\n"
          ]
        }
      ]
    },
    {
      "cell_type": "code",
      "metadata": {
        "colab": {
          "base_uri": "https://localhost:8080/"
        },
        "id": "kXI2fGuTN-S8",
        "outputId": "41b6534a-151a-4006-a0b2-2d35c8427369"
      },
      "source": [
        "print(\"Задание №6:\")\n",
        "counter = 0\n",
        "A = np.random.randint(-50, 50, size=(89, 67))\n",
        "for i in range(89):\n",
        "    for j in range(67):\n",
        "        if A[i][j] != 0:\n",
        "            counter += 1\n",
        "print(counter)"
      ],
      "execution_count": 26,
      "outputs": [
        {
          "output_type": "stream",
          "name": "stdout",
          "text": [
            "Задание №6:\n",
            "5898\n"
          ]
        }
      ]
    },
    {
      "cell_type": "code",
      "metadata": {
        "colab": {
          "base_uri": "https://localhost:8080/"
        },
        "id": "cCxCfyiqN-Vq",
        "outputId": "0cc5f60b-ef72-47b0-f7c9-f30f9cd05c7a"
      },
      "source": [
        "print(\"Задание №7:\")\n",
        "n, m = map(int, input().split())\n",
        "Z = np.zeros((n, m))\n",
        "for i in range(n):\n",
        "    for j in range(m):\n",
        "        if (i + j) % 2 != 0:\n",
        "            Z[i, j] = 1\n",
        "print(A)\n"
      ],
      "execution_count": 35,
      "outputs": [
        {
          "output_type": "stream",
          "name": "stdout",
          "text": [
            "Задание №7:\n",
            "4 4\n",
            "[[0. 1. 0. 1.]\n",
            " [1. 0. 1. 0.]\n",
            " [0. 1. 0. 1.]\n",
            " [1. 0. 1. 0.]]\n"
          ]
        }
      ]
    },
    {
      "cell_type": "code",
      "metadata": {
        "colab": {
          "base_uri": "https://localhost:8080/"
        },
        "id": "jhp7NMhFN-Ym",
        "outputId": "2420f8de-8a96-4e4c-f8d5-32c454c986f2"
      },
      "source": [
        "print(\"Задание №8:\")\n",
        "from math import ceil\n",
        "from math import floor\n",
        "A = np.array([float(x) for x in input().split()])\n",
        "Z = []\n",
        "for i in range(len(A)):\n",
        "    if A[i] < 0:\n",
        "        Z.append(floor(A[i]))\n",
        "    else:\n",
        "        Z.append(ceil(A[i]))\n",
        "print(Z)"
      ],
      "execution_count": 40,
      "outputs": [
        {
          "output_type": "stream",
          "name": "stdout",
          "text": [
            "Задание №8:\n",
            "-3.5 3.5\n",
            "[-4, 4]\n"
          ]
        }
      ]
    },
    {
      "cell_type": "code",
      "metadata": {
        "colab": {
          "base_uri": "https://localhost:8080/"
        },
        "id": "Ok73bnJOOKSx",
        "outputId": "9e39692d-f1f4-4273-f67c-41dc8b0a0d42"
      },
      "source": [
        "print(\"Задание №9:\")\n",
        "A = np.array([int(x) for x in input().split()])\n",
        "B = np.array([int(z) for z in input().split()])\n",
        "Z = []\n",
        "\n",
        "for i in range(len(A)):\n",
        "    for j in range(len(B)):\n",
        "        if A[i] == B[j]:\n",
        "            Z.append(A[i])\n",
        "Z = sorted(Z)\n",
        "Z = np.unique(Z)\n",
        "print(Z1)"
      ],
      "execution_count": 46,
      "outputs": [
        {
          "output_type": "stream",
          "name": "stdout",
          "text": [
            "Задание №9:\n",
            "1 2 3\n",
            "2 1 4\n",
            "[1 2]\n"
          ]
        }
      ]
    }
  ]
}