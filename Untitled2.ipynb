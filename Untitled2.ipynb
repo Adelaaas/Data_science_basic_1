{
  "nbformat": 4,
  "nbformat_minor": 0,
  "metadata": {
    "colab": {
      "name": "Untitled2.ipynb",
      "provenance": [],
      "collapsed_sections": [],
      "authorship_tag": "ABX9TyNvIMOXoBFTMuRzxUPWlqwW",
      "include_colab_link": true
    },
    "kernelspec": {
      "name": "python3",
      "display_name": "Python 3"
    },
    "language_info": {
      "name": "python"
    }
  },
  "cells": [
    {
      "cell_type": "markdown",
      "metadata": {
        "id": "view-in-github",
        "colab_type": "text"
      },
      "source": [
        "<a href=\"https://colab.research.google.com/github/Adelaaas/Data_science_basic_1/blob/main/Untitled2.ipynb\" target=\"_parent\"><img src=\"https://colab.research.google.com/assets/colab-badge.svg\" alt=\"Open In Colab\"/></a>"
      ]
    },
    {
      "cell_type": "code",
      "metadata": {
        "colab": {
          "base_uri": "https://localhost:8080/"
        },
        "id": "O8FeYLTpzV2L",
        "outputId": "ac5e1b77-dcb4-4b74-883c-a199d77438a8"
      },
      "source": [
        "#Задание №1\n",
        "list_1 = [1, 2, 3, 4, 5, 6, 7]\n",
        "print(list_1)\n",
        "A = [[i]*i for i in list_1 if i % 2 == 0]\n",
        "print(A)"
      ],
      "execution_count": 3,
      "outputs": [
        {
          "output_type": "stream",
          "name": "stdout",
          "text": [
            "[1, 2, 3, 4, 5, 6, 7]\n",
            "[[2, 2], [4, 4, 4, 4], [6, 6, 6, 6, 6, 6]]\n"
          ]
        }
      ]
    },
    {
      "cell_type": "code",
      "metadata": {
        "colab": {
          "base_uri": "https://localhost:8080/"
        },
        "id": "8ChhQekmzn6n",
        "outputId": "1508093d-85aa-4adb-fefb-1ff5dcd83872"
      },
      "source": [
        "#Задание №2\n",
        "x = int(input())\n",
        "y = int(input())\n",
        "if (-1 <= x <= 1 and -1 <= y <= 1):\n",
        "  print(\"Да, принадлежит\")\n",
        "else:\n",
        "  print(\"Увы, нет:(\")"
      ],
      "execution_count": null,
      "outputs": [
        {
          "output_type": "stream",
          "name": "stdout",
          "text": [
            "0 \n",
            "1\n",
            "Да, принадлежит\n"
          ]
        }
      ]
    },
    {
      "cell_type": "code",
      "metadata": {
        "colab": {
          "base_uri": "https://localhost:8080/"
        },
        "id": "v1F_tbJDJzRe",
        "outputId": "d66b549b-eec9-45fc-ae58-fe30733484f1"
      },
      "source": [
        "#Задание №3\n",
        "\n",
        "import random\n",
        "A = [random.randint(-100, 100) for i in range(10)]\n",
        "\n",
        "print(A)\n",
        "\n",
        "print([i for i in A if i % 2 == 0])"
      ],
      "execution_count": null,
      "outputs": [
        {
          "output_type": "stream",
          "name": "stdout",
          "text": [
            "[94, -73, -57, -58, -67, 75, -26, 66, -44, -60]\n",
            "[94, -58, -26, 66, -44, -60]\n"
          ]
        }
      ]
    },
    {
      "cell_type": "code",
      "metadata": {
        "colab": {
          "base_uri": "https://localhost:8080/"
        },
        "id": "I4wfhL-29onm",
        "outputId": "5f6eb053-6590-4b54-c1da-3e44cfd54fb9"
      },
      "source": [
        "#Задание №4\n",
        "name = input()\n",
        "text = f'Привет, {name}!'\n",
        "print(text)"
      ],
      "execution_count": null,
      "outputs": [
        {
          "output_type": "stream",
          "name": "stdout",
          "text": [
            "Олеся\n",
            "Привет, Олеся!\n"
          ]
        }
      ]
    },
    {
      "cell_type": "code",
      "metadata": {
        "colab": {
          "base_uri": "https://localhost:8080/"
        },
        "id": "SB4fwZuY9yv8",
        "outputId": "9d18a492-da45-4d67-cc49-ddceec14f324"
      },
      "source": [
        "#Задание №5\n",
        "Num = int(input())\n",
        "text = f'The next number for the number {Num} is {Num + 1}. The previous number for the number {Num} is {Num - 1}.'\n",
        "print(text)"
      ],
      "execution_count": null,
      "outputs": [
        {
          "output_type": "stream",
          "name": "stdout",
          "text": [
            "4\n",
            "The next number for the number 4 is 5. The previous number for the number 4 is 3.\n"
          ]
        }
      ]
    }
  ]
}