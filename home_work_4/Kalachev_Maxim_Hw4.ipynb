{
  "nbformat": 4,
  "nbformat_minor": 0,
  "metadata": {
    "colab": {
      "name": "Kalachev_Maxim_10I2_SR",
      "provenance": [],
      "collapsed_sections": []
    },
    "kernelspec": {
      "name": "python3",
      "display_name": "Python 3"
    },
    "language_info": {
      "name": "python"
    }
  },
  "cells": [
    {
      "cell_type": "code",
      "metadata": {
        "id": "-FnfN2S5eFmN",
        "colab": {
          "base_uri": "https://localhost:8080/"
        },
        "outputId": "6934700a-8de1-4d0c-b8ba-56a5a467d6fc"
      },
      "source": [
        "#Hw4\n",
        "\n",
        "#1\n",
        "import numpy as np\n",
        "import pandas as pd\n",
        "\n",
        "a = np.random.RandomState(1)\n",
        "b = pd.Series(a.uniform(0, 10, 100))\n",
        "b=b.sort_values()\n",
        "print(f'{b[b>5][:1]}')\n",
        "\n",
        "#2\n",
        "\n",
        "a = pd.DataFrame({\n",
        "    'имя': ['Петя', 'Вася', 'Аня', 'Света'],\n",
        "    'возраст': [45, 26, 41 , 21],\n",
        "    'доход': [100000, 80000, 150000, 60000],\n",
        "    'надежность клиента (0..1)': [0.65, 0.74, 0.87, 0.68],\n",
        "    'пол': ['муж', 'муж', 'жен', 'жен']},\n",
        "    i=[0, 1, 2, 3])\n",
        "age = a['возраст']>40\n",
        "received_money = a['доход']>a['доход'].sum()/4\n",
        "reliability = a['надежность клиента (0..1)']<a['надежность клиента (0..1)'].mean()\n",
        "print(f'Старше 40:\\n{a[age]}')\n",
        "print(f'\\n имеет доход выше среднего по датасету:\\n{a[received_money]}')\n",
        "print(f'\\n имеет доход выше среднего по датасету, но надежность ниже среднего по датасету:\\n{a[received_money&reliability]}')\n",
        "a['важность клиента']=[100000*0.65, 80000*0.74, 150000*0.87, 60000*0.68]\n",
        "a['возможная долгосрочность клиента']=[100000*0.65*(45-a['возраст'].sum()/4),\n",
        "                                        80000*0.74*(26-a['возраст'].sum()/4),\n",
        "                                        150000*0.87*(41-a['возраст'].sum()/4),\n",
        "                                        60000*0.68*(21-a['возраст'].sum()/4)]\n",
        "print(f'\\n{a}')\n",
        "\n",
        "#3\n",
        "\n",
        "a1 = pd.DataFrame({'fruit': ['apple', 'banana', 'orange'] * 3,\n",
        "                    'weight': ['low', 'medium', 'high'] * 3,\n",
        "                    'price': np.random.randint(0, 100, 9)})\n",
        "\n",
        "a2 = pd.DataFrame({'frukt': ['apple', 'banana', 'melon'] * 2,\n",
        "                    'ves': ['low', 'high'] * 3,\n",
        "                    'price': np.random.randint(0, 100, 6)})\n",
        "a1 = pd.concat([a1, a2], axis=0, join=\"outer\", ignore_index=True, verify_integrity=True)\n",
        "a1 = a1.drop(columns=['ves', 'frukt'], inplace=False)\n",
        "print(a1.head(9))\n",
        "\n",
        "#4\n",
        "\n",
        "a = pd.DataFrame({\n",
        "    'fruit': ['Apple', 'Watermelon', 'Cherry', 'Orange', 'Banana'],\n",
        "    'price': [25, 33.5, 19.5, 9.6, 10],\n",
        "    'quantity': [100, 34, np.NaN, 56, 120]})\n",
        "print(f'Кол-во пропусков в датасете:\\n{a.isnull().sum()}\\n')\n",
        "a = a.dropna(axis=0, how='any')\n",
        "print(f'{a}\\n')\n",
        "a['total cost'] = [100 * 25, 34 * 33.5, 56 * 9.6, 120 * 10]\n",
        "print(f'{a}\\n')\n",
        "\n",
        "a1 = pd.DataFrame({\n",
        "    'fruit': ['Apple', 'Melon', 'Peach'],\n",
        "    'price': [25, 30, 98],\n",
        "    'quantity': [100, 55, 11]})\n",
        "a1['total cost'] = [100 * 25, 55 * 30, 11 * 98]\n",
        "a = pd.concat([a, a1], ignore_index=True)\n",
        "a = a.drop(0, axis=0)\n",
        "print(a)"
      ],
      "execution_count": 4,
      "outputs": [
        {
          "output_type": "stream",
          "name": "stdout",
          "text": [
            "ПривЕТ МИр!\n"
          ]
        }
      ]
    }
  ]
}