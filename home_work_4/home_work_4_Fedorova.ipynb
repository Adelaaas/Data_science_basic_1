{
  "nbformat": 4,
  "nbformat_minor": 0,
  "metadata": {
    "colab": {
      "name": "home_work_4_Fedorova",
      "provenance": []
    },
    "kernelspec": {
      "name": "python3",
      "display_name": "Python 3"
    },
    "language_info": {
      "name": "python"
    }
  },
  "cells": [
    {
      "cell_type": "markdown",
      "metadata": {
        "id": "Vkuq2CpbmKii"
      },
      "source": [
        "1 задание"
      ]
    },
    {
      "cell_type": "code",
      "metadata": {
        "colab": {
          "base_uri": "https://localhost:8080/"
        },
        "id": "t-z_JmfumAxt",
        "outputId": "0f2df48e-73b9-4042-b35f-9111ad62c245"
      },
      "source": [
        "import numpy as np\n",
        "import pandas as pd\n",
        "\n",
        "r = np.random.RandomState(1)\n",
        "s = pd.Series(r.uniform(0, 10, 100))\n",
        "s=s.sort_values()\n",
        "print(f'{s[s>5][:1]}\\n')"
      ],
      "execution_count": 1,
      "outputs": [
        {
          "output_type": "stream",
          "name": "stdout",
          "text": [
            "67    5.148891\n",
            "dtype: float64\n",
            "\n"
          ]
        }
      ]
    },
    {
      "cell_type": "markdown",
      "metadata": {
        "id": "PKY2Qf-RmNxA"
      },
      "source": [
        "2 задание"
      ]
    },
    {
      "cell_type": "code",
      "metadata": {
        "colab": {
          "base_uri": "https://localhost:8080/"
        },
        "id": "jDmMK8Y2mPyg",
        "outputId": "6c293737-95c4-4d83-a0cb-0a43406d54ce"
      },
      "source": [
        "df = pd.DataFrame({\n",
        "    'имя': ['Петя', 'Вася', 'Аня', 'Света'],\n",
        "    'возраст': [45, 26, 41 , 21],\n",
        "    'доход': [100000, 80000, 150000, 60000],\n",
        "    'надежность клиента (0..1)': [0.65, 0.74, 0.87, 0.68],\n",
        "    'пол': ['муж', 'муж', 'жен', 'жен']},\n",
        "    index=[0, 1, 2, 3])\n",
        "age = df['возраст']>40\n",
        "received_money = df['доход']>df['доход'].sum()/4\n",
        "reliability = df['надежность клиента (0..1)']<df['надежность клиента (0..1)'].mean()\n",
        "print(f'Старше 40:\\n{df[age]}')\n",
        "print(f'\\n имеет доход выше среднего по датасету:\\n{df[received_money]}')\n",
        "print(f'\\n имеет доход выше среднего по датасету, но надежность ниже среднего по датасету:\\n{df[received_money&reliability]}')\n",
        "df['важность клиента']=[100000*0.65, 80000*0.74, 150000*0.87, 60000*0.68]\n",
        "df['возможная долгосрочность клиента']=[100000*0.65*(45-df['возраст'].sum()/4),\n",
        "                                        80000*0.74*(26-df['возраст'].sum()/4),\n",
        "                                        150000*0.87*(41-df['возраст'].sum()/4),\n",
        "                                        60000*0.68*(21-df['возраст'].sum()/4)]\n",
        "print(f'\\n{df}')"
      ],
      "execution_count": 3,
      "outputs": [
        {
          "output_type": "stream",
          "name": "stdout",
          "text": [
            "Старше 40:\n",
            "    имя  возраст   доход  надежность клиента (0..1)  пол\n",
            "0  Петя       45  100000                       0.65  муж\n",
            "2   Аня       41  150000                       0.87  жен\n",
            "\n",
            " имеет доход выше среднего по датасету:\n",
            "    имя  возраст   доход  надежность клиента (0..1)  пол\n",
            "0  Петя       45  100000                       0.65  муж\n",
            "2   Аня       41  150000                       0.87  жен\n",
            "\n",
            " имеет доход выше среднего по датасету, но надежность ниже среднего по датасету:\n",
            "    имя  возраст   доход  надежность клиента (0..1)  пол\n",
            "0  Петя       45  100000                       0.65  муж\n",
            "\n",
            "     имя  возраст  ...  важность клиента  возможная долгосрочность клиента\n",
            "0   Петя       45  ...           65000.0                          763750.0\n",
            "1   Вася       26  ...           59200.0                         -429200.0\n",
            "2    Аня       41  ...          130500.0                         1011375.0\n",
            "3  Света       21  ...           40800.0                         -499800.0\n",
            "\n",
            "[4 rows x 7 columns]\n"
          ]
        }
      ]
    },
    {
      "cell_type": "markdown",
      "metadata": {
        "id": "osqi7pykmQIG"
      },
      "source": [
        "3 задание"
      ]
    },
    {
      "cell_type": "code",
      "metadata": {
        "colab": {
          "base_uri": "https://localhost:8080/"
        },
        "id": "DzbUjvC4mR3z",
        "outputId": "a7e38ae5-34f0-421d-a3c0-b87440197903"
      },
      "source": [
        "df1 = pd.DataFrame({'fruit': ['apple', 'banana', 'orange'] * 3,\n",
        "                    'weight': ['low', 'medium', 'high'] * 3,\n",
        "                    'price': np.random.randint(0, 100, 9)})\n",
        "\n",
        "df2 = pd.DataFrame({'frukt': ['apple', 'banana', 'melon'] * 2,\n",
        "                    'ves': ['low', 'high'] * 3,\n",
        "                    'price': np.random.randint(0, 100, 6)})\n",
        "df1 = pd.concat([df1, df2], axis=0, join=\"outer\", ignore_index=True, verify_integrity=True)\n",
        "df1 = df1.drop(columns=['ves', 'frukt'], inplace=False)\n",
        "print(df1.head(9))"
      ],
      "execution_count": 2,
      "outputs": [
        {
          "output_type": "stream",
          "name": "stdout",
          "text": [
            "    fruit  weight  price\n",
            "0   apple     low     28\n",
            "1  banana  medium     90\n",
            "2  orange    high     59\n",
            "3   apple     low     11\n",
            "4  banana  medium     88\n",
            "5  orange    high     59\n",
            "6   apple     low     46\n",
            "7  banana  medium     50\n",
            "8  orange    high     36\n"
          ]
        }
      ]
    },
    {
      "cell_type": "markdown",
      "metadata": {
        "id": "-p0Mgs8ZmSJP"
      },
      "source": [
        "4 задание"
      ]
    },
    {
      "cell_type": "code",
      "metadata": {
        "id": "BmYVzDXAmTcA"
      },
      "source": [
        ""
      ],
      "execution_count": null,
      "outputs": []
    }
  ]
}