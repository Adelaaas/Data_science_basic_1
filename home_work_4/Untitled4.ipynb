{
  "nbformat": 4,
  "nbformat_minor": 0,
  "metadata": {
    "colab": {
      "name": "Untitled4.ipynb",
      "provenance": []
    },
    "kernelspec": {
      "name": "python3",
      "display_name": "Python 3"
    },
    "language_info": {
      "name": "python"
    }
  },
  "cells": [
    {
      "cell_type": "markdown",
      "metadata": {
        "id": "mVGH6AxA6tCy"
      },
      "source": [
        "Fedorova"
      ]
    },
    {
      "cell_type": "markdown",
      "metadata": {
        "id": "nNdKPJMn4hrQ"
      },
      "source": [
        "1 задание"
      ]
    },
    {
      "cell_type": "code",
      "metadata": {
        "colab": {
          "base_uri": "https://localhost:8080/"
        },
        "id": "Uc9oxO8A4eWc",
        "outputId": "07bd827d-0e7b-429a-9b10-ad42b265879f"
      },
      "source": [
        "import numpy as np\n",
        "arr = np.ones((10, 10))\n",
        "arr[1:-1,1:-1] = 0\n",
        "arr\n",
        "print(arr[8:,:])"
      ],
      "execution_count": 1,
      "outputs": [
        {
          "output_type": "stream",
          "name": "stdout",
          "text": [
            "[[1. 0. 0. 0. 0. 0. 0. 0. 0. 1.]\n",
            " [1. 1. 1. 1. 1. 1. 1. 1. 1. 1.]]\n"
          ]
        }
      ]
    },
    {
      "cell_type": "markdown",
      "metadata": {
        "id": "QHY4m22N4rwA"
      },
      "source": [
        "2 задание"
      ]
    },
    {
      "cell_type": "code",
      "metadata": {
        "colab": {
          "base_uri": "https://localhost:8080/"
        },
        "id": "jbntzMk94t89",
        "outputId": "450c939c-689d-48ce-e3b1-d39e417d690c"
      },
      "source": [
        "import numpy as np\n",
        "arr = np.diag(np.arange(1, 5), k=1)\n",
        "arr"
      ],
      "execution_count": 2,
      "outputs": [
        {
          "output_type": "execute_result",
          "data": {
            "text/plain": [
              "array([[0, 1, 0, 0, 0],\n",
              "       [0, 0, 2, 0, 0],\n",
              "       [0, 0, 0, 3, 0],\n",
              "       [0, 0, 0, 0, 4],\n",
              "       [0, 0, 0, 0, 0]])"
            ]
          },
          "metadata": {},
          "execution_count": 2
        }
      ]
    },
    {
      "cell_type": "markdown",
      "metadata": {
        "id": "X4wU_PDW4uN6"
      },
      "source": [
        "3 задание"
      ]
    },
    {
      "cell_type": "code",
      "metadata": {
        "colab": {
          "base_uri": "https://localhost:8080/"
        },
        "id": "AUJBlWUY4ugN",
        "outputId": "9e4aac82-67e2-4150-fa0a-0e2ba41c9b29"
      },
      "source": [
        "import numpy as np\n",
        "arr=np.random.rand(3,4)\n",
        "arr1=arr-arr.mean()\n",
        "print(arr)\n",
        "print(arr1)"
      ],
      "execution_count": 3,
      "outputs": [
        {
          "output_type": "stream",
          "name": "stdout",
          "text": [
            "[[0.08017777 0.71414696 0.60990974 0.58970918]\n",
            " [0.96251388 0.55972419 0.63729502 0.2326877 ]\n",
            " [0.71460629 0.425912   0.3407834  0.46567383]]\n",
            "[[-0.44758389  0.1863853   0.08214808  0.06194752]\n",
            " [ 0.43475222  0.03196252  0.10953336 -0.29507397]\n",
            " [ 0.18684463 -0.10184966 -0.18697827 -0.06208783]]\n"
          ]
        }
      ]
    },
    {
      "cell_type": "markdown",
      "metadata": {
        "id": "kjg_h_Qz4uxK"
      },
      "source": [
        "4 задание"
      ]
    },
    {
      "cell_type": "code",
      "metadata": {
        "colab": {
          "base_uri": "https://localhost:8080/"
        },
        "id": "nmFAuXge4zb8",
        "outputId": "02c6d092-da9e-4168-a923-e9526224dcaa"
      },
      "source": [
        "import numpy as np\n",
        "с = np.random.random((6,7))\n",
        "x=с.copy()\n",
        "print(с)\n",
        "a=с[2]\n",
        "b=с[5]\n",
        "x[2]=b\n",
        "x[5]=a\n",
        "print(x)"
      ],
      "execution_count": 4,
      "outputs": [
        {
          "output_type": "stream",
          "name": "stdout",
          "text": [
            "[[0.96058801 0.81393318 0.81023538 0.09170613 0.31944443 0.27940936\n",
            "  0.04521756]\n",
            " [0.16606916 0.18321665 0.76353056 0.68507456 0.8051562  0.82974006\n",
            "  0.05557484]\n",
            " [0.75185295 0.08443924 0.34315267 0.26027558 0.52207905 0.49830192\n",
            "  0.18070135]\n",
            " [0.31822999 0.90277533 0.81731092 0.54770219 0.30456686 0.81265141\n",
            "  0.08516536]\n",
            " [0.84557545 0.73985489 0.37160537 0.19560245 0.61478794 0.72394324\n",
            "  0.97713112]\n",
            " [0.59385112 0.02779656 0.48797663 0.39803521 0.01001423 0.58318997\n",
            "  0.66765761]]\n",
            "[[0.96058801 0.81393318 0.81023538 0.09170613 0.31944443 0.27940936\n",
            "  0.04521756]\n",
            " [0.16606916 0.18321665 0.76353056 0.68507456 0.8051562  0.82974006\n",
            "  0.05557484]\n",
            " [0.59385112 0.02779656 0.48797663 0.39803521 0.01001423 0.58318997\n",
            "  0.66765761]\n",
            " [0.31822999 0.90277533 0.81731092 0.54770219 0.30456686 0.81265141\n",
            "  0.08516536]\n",
            " [0.84557545 0.73985489 0.37160537 0.19560245 0.61478794 0.72394324\n",
            "  0.97713112]\n",
            " [0.75185295 0.08443924 0.34315267 0.26027558 0.52207905 0.49830192\n",
            "  0.18070135]]\n"
          ]
        }
      ]
    },
    {
      "cell_type": "markdown",
      "metadata": {
        "id": "mtIFKf8k4ejU"
      },
      "source": [
        "5 задание"
      ]
    },
    {
      "cell_type": "code",
      "metadata": {
        "colab": {
          "base_uri": "https://localhost:8080/"
        },
        "id": "a_RtFVnu41Zf",
        "outputId": "468b623d-aa76-4b0b-d762-e61a0b461012"
      },
      "source": [
        "import random\n",
        "import numpy as np\n",
        "a=[]\n",
        "for i in range(5):\n",
        "   a.append([random.randint(0, 100) for _ in range(5)])\n",
        "b=np.array(b,dtype = np.int32)\n",
        "print(type(a))\n",
        "print(type (b))"
      ],
      "execution_count": 5,
      "outputs": [
        {
          "output_type": "stream",
          "name": "stdout",
          "text": [
            "<class 'list'>\n",
            "<class 'numpy.ndarray'>\n"
          ]
        }
      ]
    },
    {
      "cell_type": "markdown",
      "metadata": {
        "id": "MQSjIev7415N"
      },
      "source": [
        "6 задание"
      ]
    },
    {
      "cell_type": "code",
      "metadata": {
        "colab": {
          "base_uri": "https://localhost:8080/"
        },
        "id": "4k5Dyy2w426f",
        "outputId": "81073b3a-530c-4dda-fdf0-dddeb25fc738"
      },
      "source": [
        "a= np.random.randint(-50, 50, size=(89, 67))\n",
        "b=0\n",
        "for x in range(a.shape[0]):\n",
        "  for y in range(a.shape[1]):\n",
        "    if a[x, y]==0:\n",
        "      b+=1\n",
        "print(b)"
      ],
      "execution_count": 6,
      "outputs": [
        {
          "output_type": "stream",
          "name": "stdout",
          "text": [
            "54\n"
          ]
        }
      ]
    },
    {
      "cell_type": "markdown",
      "metadata": {
        "id": "l81qmPQw43Ls"
      },
      "source": [
        "7 задание"
      ]
    },
    {
      "cell_type": "code",
      "metadata": {
        "colab": {
          "base_uri": "https://localhost:8080/"
        },
        "id": "g7C-zMkQ44NB",
        "outputId": "29149570-98ed-4d5a-eeaa-8876a8944830"
      },
      "source": [
        "import numpy as np\n",
        "m=int(input())\n",
        "n=int(input())\n",
        "z=np.ones((m,n))\n",
        "for x in range(z.shape[0]):\n",
        "  for y in range(z.shape[1]):\n",
        "    if y%2==0 and x%2==0:\n",
        "      z[x, y]=0\n",
        "    elif y%2==1 and x%2==1:\n",
        "      z[x, y]=0\n",
        "z"
      ],
      "execution_count": 7,
      "outputs": [
        {
          "name": "stdout",
          "output_type": "stream",
          "text": [
            "2\n",
            "6\n"
          ]
        },
        {
          "output_type": "execute_result",
          "data": {
            "text/plain": [
              "array([[0., 1., 0., 1., 0., 1.],\n",
              "       [1., 0., 1., 0., 1., 0.]])"
            ]
          },
          "metadata": {},
          "execution_count": 7
        }
      ]
    },
    {
      "cell_type": "markdown",
      "metadata": {
        "id": "iPUDKTb545Ac"
      },
      "source": [
        "8 задание"
      ]
    },
    {
      "cell_type": "code",
      "metadata": {
        "id": "jkJeVZx2458c",
        "colab": {
          "base_uri": "https://localhost:8080/"
        },
        "outputId": "45d439ba-bc79-4c29-a3f6-b7adca209f02"
      },
      "source": [
        "import numpy as np\n",
        "arr = np.array([0.1, -4.2, 1.7, 8.9, -36.3], float)\n",
        "for i in range(len(arr)):\n",
        "  if arr[i]>0: \n",
        "    arr[i]=np.ceil(arr[i])\n",
        "  elif arr[i]<0: \n",
        "    arr[i]=np.floor(arr[i])\n",
        "  else:\n",
        "    arr[i]=0\n",
        "print(arr)"
      ],
      "execution_count": 8,
      "outputs": [
        {
          "output_type": "stream",
          "name": "stdout",
          "text": [
            "[  1.  -5.   2.   9. -37.]\n"
          ]
        }
      ]
    },
    {
      "cell_type": "markdown",
      "metadata": {
        "id": "hktnnjAV5P1N"
      },
      "source": [
        "9 задание"
      ]
    },
    {
      "cell_type": "code",
      "metadata": {
        "id": "aDUwV2Ur5Q8w"
      },
      "source": [
        "-"
      ],
      "execution_count": null,
      "outputs": []
    }
  ]
}