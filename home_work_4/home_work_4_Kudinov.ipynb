{
  "nbformat": 4,
  "nbformat_minor": 0,
  "metadata": {
    "colab": {
      "name": "home_work_4_Kudinov.ipynb",
      "provenance": [],
      "collapsed_sections": []
    },
    "kernelspec": {
      "name": "python3",
      "display_name": "Python 3"
    },
    "language_info": {
      "name": "python"
    }
  },
  "cells": [
    {
      "cell_type": "code",
      "metadata": {
        "id": "QYNvShNPWA-W"
      },
      "source": [
        "import numpy\n",
        "from math \n",
        "from math import floor"
      ],
      "execution_count": null,
      "outputs": []
    },
    {
      "cell_type": "code",
      "metadata": {
        "colab": {
          "base_uri": "https://localhost:8080/"
        },
        "id": "mX9DKO83occl",
        "outputId": "b02604ea-89d3-4612-8cf8-ee79ea71f233"
      },
      "source": [
        "#задание 1\n",
        "import numpy as np\n",
        "a = np.ones((3,3))\n",
        "a[1, 1] = 0\n",
        "print(a)"
      ],
      "execution_count": 1,
      "outputs": [
        {
          "output_type": "stream",
          "name": "stdout",
          "text": [
            "[[1. 1. 1.]\n",
            " [1. 0. 1.]\n",
            " [1. 1. 1.]]\n"
          ]
        }
      ]
    },
    {
      "cell_type": "code",
      "metadata": {
        "colab": {
          "base_uri": "https://localhost:8080/"
        },
        "id": "MmtjrXstot15",
        "outputId": "1d967b69-3a4e-4363-8807-897bf205907f"
      },
      "source": [
        "#задание 2\n",
        "a = np.zeros((5,5))\n",
        "for i in range(4):\n",
        "  a[i, i] = i+1\n",
        "print(a)"
      ],
      "execution_count": 5,
      "outputs": [
        {
          "output_type": "stream",
          "name": "stdout",
          "text": [
            "[[1. 0. 0. 0. 0.]\n",
            " [0. 2. 0. 0. 0.]\n",
            " [0. 0. 3. 0. 0.]\n",
            " [0. 0. 0. 4. 0.]\n",
            " [0. 0. 0. 0. 0.]]\n"
          ]
        }
      ]
    },
    {
      "cell_type": "code",
      "metadata": {
        "colab": {
          "base_uri": "https://localhost:8080/"
        },
        "id": "JJNy6uL3qaLS",
        "outputId": "3c22b9c6-201b-4cde-ae07-08f63fd1097c"
      },
      "source": [
        "#задание 3\n",
        "X = np.random.rand(5, 10)\n",
        "Y = np.array([[X[i,j] - X[i].mean() for j in range(X.shape[1])] for i in range(X.shape[0])])\n",
        "print(Y)"
      ],
      "execution_count": 19,
      "outputs": [
        {
          "output_type": "stream",
          "name": "stdout",
          "text": [
            "[[ 0.45710881  0.52290839 -0.32075981  0.33954672 -0.38092536 -0.36135489\n",
            "   0.26199546 -0.31884424 -0.29457037  0.0948953 ]\n",
            " [-0.07907397  0.36420434  0.25104    -0.39011264  0.26840517  0.15962293\n",
            "  -0.5372033   0.24789321 -0.44937547  0.16459972]\n",
            " [-0.00954274  0.24376814 -0.20111929 -0.45694661 -0.43920354  0.4462529\n",
            "   0.36595471 -0.25729267  0.20451716  0.10361194]\n",
            " [ 0.4361598   0.14701953 -0.42526683 -0.14137761  0.1220467  -0.49338197\n",
            "   0.01108183  0.28163306  0.31642939 -0.25434389]\n",
            " [-0.0067484  -0.23177653 -0.32312831 -0.01271454  0.23699906 -0.2555275\n",
            "   0.2654079  -0.05380509  0.09002038  0.29127303]]\n"
          ]
        }
      ]
    },
    {
      "cell_type": "code",
      "metadata": {
        "colab": {
          "base_uri": "https://localhost:8080/"
        },
        "id": "YzlpXS3h5mko",
        "outputId": "cf6136e2-c824-4acc-be9c-fb083dd94ecd"
      },
      "source": [
        "#задание 4\n",
        "a = np.array([[1, 2, 3, 4, 5, 6, 7],\n",
        "              [8, 9, 10, 11, 12, 13, 14],\n",
        "              [15, 16, 17, 18, 19, 20, 21],\n",
        "              [22, 23, 24, 25, 26, 27, 28],\n",
        "              [29, 30, 31, 32, 33, 34, 35],\n",
        "              [36, 37, 38, 39, 40, 41, 42]], int)\n",
        "b = a.copy()\n",
        "a[5] = a[2]\n",
        "a[2] = b[5]\n",
        "print(a)"
      ],
      "execution_count": 55,
      "outputs": [
        {
          "output_type": "stream",
          "name": "stdout",
          "text": [
            "[[ 1  2  3  4  5  6  7]\n",
            " [ 8  9 10 11 12 13 14]\n",
            " [36 37 38 39 40 41 42]\n",
            " [22 23 24 25 26 27 28]\n",
            " [29 30 31 32 33 34 35]\n",
            " [15 16 17 18 19 20 21]]\n"
          ]
        }
      ]
    },
    {
      "cell_type": "code",
      "metadata": {
        "colab": {
          "base_uri": "https://localhost:8080/"
        },
        "id": "0tafa5HL-cBz",
        "outputId": "ff9f0c4d-eff7-4ea8-e0ff-fc6d709b34f1"
      },
      "source": [
        "#задание 5\n",
        "a = np.random.rand(5,5)\n",
        "a = a.astype('int32')\n",
        "print(a)"
      ],
      "execution_count": 68,
      "outputs": [
        {
          "output_type": "stream",
          "name": "stdout",
          "text": [
            "[[0 0 0 0 0]\n",
            " [0 0 0 0 0]\n",
            " [0 0 0 0 0]\n",
            " [0 0 0 0 0]\n",
            " [0 0 0 0 0]]\n"
          ]
        }
      ]
    },
    {
      "cell_type": "code",
      "metadata": {
        "colab": {
          "base_uri": "https://localhost:8080/"
        },
        "id": "Vl6hplA0ASYo",
        "outputId": "17b69e64-dcf3-4523-eda8-5590cc2eea28"
      },
      "source": [
        "#задание 6\n",
        "a = 0\n",
        "b = np.random.randint(-50, 50, size=(89, 67))\n",
        "for i in range(89):\n",
        "    for j in range(67):\n",
        "        if b[i][j] != 0:\n",
        "            a = a + 1\n",
        "print(a)"
      ],
      "execution_count": 66,
      "outputs": [
        {
          "output_type": "stream",
          "name": "stdout",
          "text": [
            "5896\n"
          ]
        }
      ]
    },
    {
      "cell_type": "code",
      "metadata": {
        "colab": {
          "base_uri": "https://localhost:8080/"
        },
        "id": "baJFDKX-BO67",
        "outputId": "60608daa-03a0-4b8c-8302-44ebd9e601fe"
      },
      "source": [
        "#задание 7\n",
        "n, m = map(int, (input(), input()))\n",
        "a = np.zeros((n, m))\n",
        "for i in range(n):\n",
        "    for j in range(m):\n",
        "        if (i + j) % 2 != 0:\n",
        "            a[i, j] = 1 \n",
        "print(a)"
      ],
      "execution_count": 76,
      "outputs": [
        {
          "output_type": "stream",
          "name": "stdout",
          "text": [
            "8\n",
            "8\n",
            "[[0. 1. 0. 1. 0. 1. 0. 1.]\n",
            " [1. 0. 1. 0. 1. 0. 1. 0.]\n",
            " [0. 1. 0. 1. 0. 1. 0. 1.]\n",
            " [1. 0. 1. 0. 1. 0. 1. 0.]\n",
            " [0. 1. 0. 1. 0. 1. 0. 1.]\n",
            " [1. 0. 1. 0. 1. 0. 1. 0.]\n",
            " [0. 1. 0. 1. 0. 1. 0. 1.]\n",
            " [1. 0. 1. 0. 1. 0. 1. 0.]]\n"
          ]
        }
      ]
    }
  ]
}