{
  "nbformat": 4,
  "nbformat_minor": 0,
  "metadata": {
    "colab": {
      "name": "Untitled5.ipynb",
      "provenance": []
    },
    "kernelspec": {
      "name": "python3",
      "display_name": "Python 3"
    },
    "language_info": {
      "name": "python"
    }
  },
  "cells": [
    {
      "cell_type": "code",
      "metadata": {
        "colab": {
          "base_uri": "https://localhost:8080/"
        },
        "id": "gYU3k0pe2251",
        "outputId": "d0a409fc-0c0c-4426-f908-0f763afc41b0"
      },
      "source": [
        "import numpy as np\n",
        "a = np.array([[1, 2, 3],[9, 0, 8],[7, 8, 5]], int)\n",
        "for i in range(3):\n",
        "  for j in range(3):\n",
        "    print(a[i][j],end=' ')\n",
        "  print()\n",
        "print()\n",
        "print(a[0,0],a[1,1],a[2,2])\n",
        "print(a[0:,1])"
      ],
      "execution_count": 41,
      "outputs": [
        {
          "output_type": "stream",
          "name": "stdout",
          "text": [
            "1 2 3 \n",
            "9 0 8 \n",
            "7 8 5 \n",
            "\n",
            "1 0 5\n",
            "[2 0 8]\n"
          ]
        }
      ]
    },
    {
      "cell_type": "code",
      "metadata": {
        "colab": {
          "base_uri": "https://localhost:8080/"
        },
        "id": "MfbcAQtU5AtI",
        "outputId": "b4b036f1-9d1f-40cf-969f-79ffcaa7f13a"
      },
      "source": [
        "a = np.array([[1, 2, 3],[9, 0, 8],[7, 8, 5]], int)\n",
        "print(a.flatten())\n",
        "print(a.shape)\n",
        "print(a)"
      ],
      "execution_count": 44,
      "outputs": [
        {
          "output_type": "stream",
          "name": "stdout",
          "text": [
            "[1 2 3 9 0 8 7 8 5]\n",
            "(3, 3)\n",
            "[[1 2 3]\n",
            " [9 0 8]\n",
            " [7 8 5]]\n"
          ]
        }
      ]
    },
    {
      "cell_type": "code",
      "metadata": {
        "colab": {
          "base_uri": "https://localhost:8080/"
        },
        "id": "xYWlj2p8Cftu",
        "outputId": "db30bbcb-78ba-4190-cb26-047a4c744df9"
      },
      "source": [
        "a = np.array([[1, 2, 3],[4, 5, 6],[7, 8, 9]], int)\n",
        "b=[]\n",
        "for i in range(3):\n",
        "  for j in range(3):\n",
        "    print(a[i][j],end=' ')\n",
        "  print()\n",
        "print()\n",
        "for i in range(3):\n",
        "  for j in range(3):\n",
        "    print(a[j][i],end=' ')\n",
        "  print()"
      ],
      "execution_count": 42,
      "outputs": [
        {
          "output_type": "stream",
          "name": "stdout",
          "text": [
            "1 2 3 \n",
            "4 5 6 \n",
            "7 8 9 \n",
            "\n",
            "1 4 7 \n",
            "2 5 8 \n",
            "3 6 9 \n"
          ]
        }
      ]
    },
    {
      "cell_type": "code",
      "metadata": {
        "colab": {
          "base_uri": "https://localhost:8080/"
        },
        "id": "ZL0KKAnHAbn9",
        "outputId": "3c212732-b6c9-413d-adbc-7ed57d8da770"
      },
      "source": [
        "a = np.array([[1, 2, 3],[4, 5, 6],[7, 8, 9]], int)\n",
        "b=0;\n",
        "c=0;\n",
        "for i in range(3):\n",
        "  for j in range(3):\n",
        "    b=b+a[i,j]\n",
        "    c=c+1;\n",
        "c=b/c\n",
        "print(b)\n",
        "print(c)"
      ],
      "execution_count": 43,
      "outputs": [
        {
          "output_type": "stream",
          "name": "stdout",
          "text": [
            "18\n",
            "2.0\n"
          ]
        }
      ]
    }
  ]
}