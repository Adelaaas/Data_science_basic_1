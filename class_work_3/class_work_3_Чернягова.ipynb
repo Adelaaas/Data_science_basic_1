{
  "nbformat": 4,
  "nbformat_minor": 0,
  "metadata": {
    "colab": {
      "name": "class_work_3_Чернягова.ipynb",
      "provenance": []
    },
    "kernelspec": {
      "name": "python3",
      "display_name": "Python 3"
    },
    "language_info": {
      "name": "python"
    }
  },
  "cells": [
    {
      "cell_type": "code",
      "metadata": {
        "id": "2sFUmujH22jl"
      },
      "source": [
        "import numpy as np"
      ],
      "execution_count": 44,
      "outputs": []
    },
    {
      "cell_type": "code",
      "metadata": {
        "colab": {
          "base_uri": "https://localhost:8080/"
        },
        "id": "VeVgGmjT26mZ",
        "outputId": "004363d3-9df6-465c-df95-21c2cdcea77b"
      },
      "source": [
        "a=np.array([[1, 2, 3], [4, 5, 6], [7, 8, 9]], int)\n",
        "print(a)\n",
        "print(a[0, 0])\n",
        "print(a[1, 1])\n",
        "print(a[2, 2])"
      ],
      "execution_count": 45,
      "outputs": [
        {
          "output_type": "stream",
          "name": "stdout",
          "text": [
            "[[1 2 3]\n",
            " [4 5 6]\n",
            " [7 8 9]]\n",
            "1\n",
            "5\n",
            "9\n"
          ]
        }
      ]
    },
    {
      "cell_type": "code",
      "metadata": {
        "colab": {
          "base_uri": "https://localhost:8080/"
        },
        "id": "c25UmNCO5HD9",
        "outputId": "52a2f3cc-6021-4ac3-f9c0-1600600a6368"
      },
      "source": [
        "print(a[:, 1])"
      ],
      "execution_count": 46,
      "outputs": [
        {
          "output_type": "stream",
          "name": "stdout",
          "text": [
            "[2 5 8]\n"
          ]
        }
      ]
    },
    {
      "cell_type": "code",
      "metadata": {
        "colab": {
          "base_uri": "https://localhost:8080/"
        },
        "id": "qtCXPtHE7pnn",
        "outputId": "169c1223-35bd-4779-c6c8-8634be712613"
      },
      "source": [
        "a=np.array([[1, 2, 3], [4, 5, 6], [7, 8, 9]], int)\n",
        "print(a.shape)\n",
        "b=a.flatten()\n",
        "print(b)\n",
        "print(b.shape)"
      ],
      "execution_count": 47,
      "outputs": [
        {
          "output_type": "stream",
          "name": "stdout",
          "text": [
            "(3, 3)\n",
            "[1 2 3 4 5 6 7 8 9]\n",
            "(9,)\n"
          ]
        }
      ]
    },
    {
      "cell_type": "code",
      "metadata": {
        "colab": {
          "base_uri": "https://localhost:8080/"
        },
        "id": "xDyl0zEi-YNz",
        "outputId": "2ffb4e97-96b4-4db7-eb52-3618ca204eeb"
      },
      "source": [
        "a=np.array([[1, 2, 3], [4, 5, 6], [7, 8, 9]], int)\n",
        "for y in range(a.shape[0]):\n",
        "  print('столбец:', y)\n",
        "  for x in range(a.shape[1]):\n",
        "    print(a[x, y])"
      ],
      "execution_count": 48,
      "outputs": [
        {
          "output_type": "stream",
          "name": "stdout",
          "text": [
            "столбец: 0\n",
            "1\n",
            "4\n",
            "7\n",
            "столбец: 1\n",
            "2\n",
            "5\n",
            "8\n",
            "столбец: 2\n",
            "3\n",
            "6\n",
            "9\n"
          ]
        }
      ]
    },
    {
      "cell_type": "code",
      "metadata": {
        "colab": {
          "base_uri": "https://localhost:8080/"
        },
        "id": "5cA-ubQkAjmV",
        "outputId": "5714b263-88dd-4815-beab-519963d957f5"
      },
      "source": [
        "sum=0\n",
        "sr=0\n",
        "for x in range(a.shape[0]):\n",
        "  for y in range(a.shape[1]):\n",
        "    sum=sum+a[x, y]\n",
        "sr=sum/9\n",
        "print(sum)\n",
        "print(sr)"
      ],
      "execution_count": 49,
      "outputs": [
        {
          "output_type": "stream",
          "name": "stdout",
          "text": [
            "45\n",
            "5.0\n"
          ]
        }
      ]
    }
  ]
}