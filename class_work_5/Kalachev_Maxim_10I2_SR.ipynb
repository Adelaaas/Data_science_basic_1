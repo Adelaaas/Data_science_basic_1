{
  "nbformat": 4,
  "nbformat_minor": 0,
  "metadata": {
    "colab": {
      "name": "Kalachev_Maxim_10I2_SR",
      "provenance": [],
      "collapsed_sections": []
    },
    "kernelspec": {
      "name": "python3",
      "display_name": "Python 3"
    },
    "language_info": {
      "name": "python"
    }
  },
  "cells": [
    {
      "cell_type": "code",
      "metadata": {
        "id": "-FnfN2S5eFmN"
      },
      "source": [
        "#1\n",
        "def distance(x1,y1,x2,y2):\n",
        "  d = abs(x1-x2)\n",
        "  c = abs(y1-y2)\n",
        "  k = (d**2 + c**2)**0.5\n",
        "  print(k)\n",
        "  return 0\n",
        "\n",
        "x1 = int(input())\n",
        "y1 = int(input())\n",
        "x2 = int(input())\n",
        "y2 = int(input())\n",
        "\n",
        "distance(x1,y1,x2,y2)\n",
        "\n",
        "#2\n",
        "a = [1,5,3,8,1,8]\n",
        "b = [2,5,7,1,4,8]\n",
        "c = []\n",
        "for i in range(len(a)):\n",
        "  if a[i]%2 == 0:\n",
        "    c.append(a[i]*b[i])\n",
        "  if a[i]%2 !=0:\n",
        "    c.append(a[i] + b[i])\n",
        "print(c)\n",
        "\n",
        "#3\n",
        "import numpy as np\n",
        " \n",
        "x = np.array([6, 2, 0, 3, 0, 0, 1, 7, 0])\n",
        "mn = 100000000000000\n",
        "for i in x:\n",
        "  if x[i+1] == 0 and x[i] !=0:\n",
        "    if mn>x[i]:\n",
        "      mn = x[i]\n",
        "print(mn)\n",
        "\n",
        "#4.1\n",
        "import pandas as pd\n",
        "\n",
        "a = pd.read_csv(\"income_evaluation.csv\", sep=',')\n",
        "b = set(a[' education'])\n",
        "otv = dict()\n",
        "for i in b:\n",
        "    otv[i] = 0\n",
        "for i in (a[' education']):\n",
        "    otv[i] += 1\n",
        "print(otv)\n",
        "\n",
        "#4.2\n",
        "import pandas as pd\n",
        "a = pd.read_csv(\"income_evaluation.csv\", sep=',')\n",
        "print(a['age'].sum() / len(a['age']))\n",
        "\n",
        "#4.4\n",
        "import pandas as pd\n",
        "\n",
        "a = pd.read_csv(\"income_evaluation.csv\", sep=',')\n",
        "print(len(a[' income']))\n",
        "a = a.drop(a[a[' income'] == ' >50K'].index)\n",
        "print(len(a[' income']))\n",
        "\n",
        "#4.5\n",
        "import pandas as pd\n",
        "\n",
        "a = pd.read_csv(\"income_evaluation.csv\", sep=',')\n",
        "print(a[a[' race'] == ' White']['age'].max())"
      ],
      "execution_count": null,
      "outputs": []
    }
  ]
}