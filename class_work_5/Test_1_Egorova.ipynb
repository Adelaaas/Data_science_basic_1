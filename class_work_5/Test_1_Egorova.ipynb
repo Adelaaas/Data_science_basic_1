{
  "nbformat": 4,
  "nbformat_minor": 0,
  "metadata": {
    "colab": {
      "name": "Test_1.ipynb",
      "provenance": []
    },
    "kernelspec": {
      "name": "python3",
      "display_name": "Python 3"
    },
    "language_info": {
      "name": "python"
    }
  },
  "cells": [
    {
      "cell_type": "code",
      "metadata": {
        "colab": {
          "base_uri": "https://localhost:8080/"
        },
        "id": "S-LsAkKoO2tC",
        "outputId": "23d70be6-9b02-4ac4-be5a-e9508d55cacc"
      },
      "source": [
        "#Задание 1.\n",
        "#Даны четыре действительных числа: x1, y1, x2, y2.\n",
        "#Напишите функцию distance(x1, y1, x2, y2), вычисляющая расстояние между точкой (x1,y1) и (x2,y2).\n",
        "#Считайте четыре действительных числа с клавиатуры и выведите результат работы этой функции.\n",
        "\n",
        "from math import sqrt\n",
        " \n",
        "def distance(x1, y1, x2, y2):\n",
        "    return sqrt((x1 - x2) ** 2 + (y1 - y2) ** 2)\n",
        " \n",
        "x1 = 2\n",
        "x2 = 3\n",
        "y1 = 4\n",
        "y2 = 5\n",
        "print(distance(x1, x2, y1, y2))"
      ],
      "execution_count": 3,
      "outputs": [
        {
          "output_type": "stream",
          "name": "stdout",
          "text": [
            "2.8284271247461903\n"
          ]
        }
      ]
    },
    {
      "cell_type": "code",
      "metadata": {
        "colab": {
          "base_uri": "https://localhost:8080/"
        },
        "id": "Cml7yJbAQQa-",
        "outputId": "58bd1ee8-9b78-45f9-b671-bf4fc463fae5"
      },
      "source": [
        "#Задание 2.\n",
        "#Даны два списка А и В одинаковой длины. Создайте новый список С в котором какждый новый элемент формируется как:\n",
        "#если значение элемента списка А[i] четное, то С[i] = A[i]*B[i]\n",
        "#если значение элемента списка A[i] нечетное, то С[i] = A[i]+B[i]\n",
        "\n",
        "\n",
        "a = [0, 1, 2, 3, 4, 5, 6, 7, 8, 9]\n",
        "b = [9, 8, 7, 6, 5, 4, 3, 2, 1, 0]\n",
        "c = []\n",
        "for i in range(len(a)):\n",
        " if a[i] % 2 == 0:\n",
        "   c.append(a[i] * b[i])\n",
        " else:\n",
        "   c.append(a[i] + b[i])\n",
        "print(c)\n",
        "\n"
      ],
      "execution_count": 9,
      "outputs": [
        {
          "output_type": "stream",
          "name": "stdout",
          "text": [
            "[0, 9, 14, 9, 20, 9, 18, 9, 8, 9]\n"
          ]
        }
      ]
    },
    {
      "cell_type": "code",
      "metadata": {
        "colab": {
          "base_uri": "https://localhost:8080/"
        },
        "id": "3Enu2sYxS67L",
        "outputId": "1ed44b45-cb89-4d07-8ab0-cb60a7434019"
      },
      "source": [
        "#Задание 3.\n",
        "#Найти минимальный элемент в векторе x среди элементов, после которых стоит нулевой.\n",
        "\n",
        "import numpy as np\n",
        " \n",
        "x = np.array([0, 1, 0, 3, 0, 0, 5, 7, 0])\n",
        "print(np.max(np.take(x, np.where(x[1:] == 0))))\n",
        "\n"
      ],
      "execution_count": 8,
      "outputs": [
        {
          "output_type": "stream",
          "name": "stdout",
          "text": [
            "7\n"
          ]
        }
      ]
    },
    {
      "cell_type": "code",
      "metadata": {
        "id": "487kMUR-O9kS"
      },
      "source": [
        ""
      ],
      "execution_count": null,
      "outputs": []
    }
  ]
}