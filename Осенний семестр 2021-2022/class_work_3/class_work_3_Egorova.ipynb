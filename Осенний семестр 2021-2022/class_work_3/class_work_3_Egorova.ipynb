{
  "nbformat": 4,
  "nbformat_minor": 0,
  "metadata": {
    "colab": {
      "name": "Добро пожаловать в Colaboratory!",
      "provenance": [],
      "collapsed_sections": [],
      "toc_visible": true
    },
    "kernelspec": {
      "display_name": "Python 3",
      "name": "python3"
    }
  },
  "cells": [
    {
      "cell_type": "code",
      "metadata": {
        "colab": {
          "base_uri": "https://localhost:8080/"
        },
        "id": "gJr_9dXGpJ05",
        "outputId": "25246737-a70f-4949-e898-4a5b1abf3994"
      },
      "source": [
        "import numpy as np\n",
        "\n",
        "a=np.array([[1, 2, 3], [4, 5, 6], [7, 8, 9]], int)\n",
        "print(a)\n",
        "print(a[0, 0])\n",
        "print(a[1, 1])\n",
        "print(a[2, 2])"
      ],
      "execution_count": 2,
      "outputs": [
        {
          "output_type": "stream",
          "name": "stdout",
          "text": [
            "[[1 2 3]\n",
            " [4 5 6]\n",
            " [7 8 9]]\n",
            "1\n",
            "5\n",
            "9\n"
          ]
        }
      ]
    },
    {
      "cell_type": "code",
      "metadata": {
        "colab": {
          "base_uri": "https://localhost:8080/"
        },
        "id": "-gE-Ez1qtyIA",
        "outputId": "79c9aa78-3d7f-48b7-b845-0414bdb2744a"
      },
      "source": [
        "\n",
        "print(a[:, 1])"
      ],
      "execution_count": 3,
      "outputs": [
        {
          "output_type": "stream",
          "name": "stdout",
          "text": [
            "[2 5 8]\n"
          ]
        }
      ]
    },
    {
      "cell_type": "code",
      "metadata": {
        "colab": {
          "base_uri": "https://localhost:8080/"
        },
        "id": "srVz6RuyXC_v",
        "outputId": "85395ea3-cfdc-433d-d02b-bc66900b890e"
      },
      "source": [
        "a=np.array([[1, 2, 3], [4, 5, 6], [7, 8, 9]], int)\n",
        "print(a.shape)\n",
        "b=a.flatten()\n",
        "print(b)\n",
        "print(b.shape)"
      ],
      "execution_count": 4,
      "outputs": [
        {
          "output_type": "stream",
          "name": "stdout",
          "text": [
            "(3, 3)\n",
            "[1 2 3 4 5 6 7 8 9]\n",
            "(9,)\n"
          ]
        }
      ]
    },
    {
      "cell_type": "code",
      "metadata": {
        "colab": {
          "base_uri": "https://localhost:8080/"
        },
        "id": "m2JYVFdNXH8w",
        "outputId": "95ab589e-1d18-441f-c7a7-4a51c62acbed"
      },
      "source": [
        "a=np.array([[1, 2, 3], [4, 5, 6], [7, 8, 9]], int)\n",
        "for y in range(a.shape[0]):\n",
        "  print('столбец:', y)\n",
        "  for x in range(a.shape[1]):\n",
        "    print(a[x, y])"
      ],
      "execution_count": 5,
      "outputs": [
        {
          "output_type": "stream",
          "name": "stdout",
          "text": [
            "столбец: 0\n",
            "1\n",
            "4\n",
            "7\n",
            "столбец: 1\n",
            "2\n",
            "5\n",
            "8\n",
            "столбец: 2\n",
            "3\n",
            "6\n",
            "9\n"
          ]
        }
      ]
    },
    {
      "cell_type": "code",
      "metadata": {
        "colab": {
          "base_uri": "https://localhost:8080/"
        },
        "id": "tag8WzOnXNPx",
        "outputId": "2552370e-5496-48dd-c681-2cfc898904dc"
      },
      "source": [
        "sum=0\n",
        "sr=0\n",
        "for x in range(a.shape[0]):\n",
        "  for y in range(a.shape[1]):\n",
        "    sum=sum+a[x, y]\n",
        "sr=sum/9\n",
        "print(sum)\n",
        "print(sr)"
      ],
      "execution_count": 6,
      "outputs": [
        {
          "output_type": "stream",
          "name": "stdout",
          "text": [
            "45\n",
            "5.0\n"
          ]
        }
      ]
    }
  ]
}