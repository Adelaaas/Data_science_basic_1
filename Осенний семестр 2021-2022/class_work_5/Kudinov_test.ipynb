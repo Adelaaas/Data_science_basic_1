{
  "nbformat": 4,
  "nbformat_minor": 0,
  "metadata": {
    "colab": {
      "name": "Kudinov_test.ipynb",
      "provenance": []
    },
    "kernelspec": {
      "name": "python3",
      "display_name": "Python 3"
    },
    "language_info": {
      "name": "python"
    }
  },
  "cells": [
    {
      "cell_type": "code",
      "metadata": {
        "colab": {
          "base_uri": "https://localhost:8080/"
        },
        "id": "IguKADtxDF3v",
        "outputId": "b8424d17-2829-4adf-fd5f-8f16bd82149e"
      },
      "source": [
        "#Задание №1\n",
        "\n",
        "import math\n",
        "\n",
        "def distance(x1, y1, x2, y2):\n",
        "  a = abs(x1-x2)\n",
        "  b = abs(y1-y2)\n",
        "  c = math.sqrt(a**2 + b**2)\n",
        "  return c\n",
        "\n",
        "x1 = int(input())\n",
        "y1 = int(input())\n",
        "x2 = int(input())\n",
        "y2 = int(input())\n",
        "\n",
        "distance(x1, y1, x2, y2)"
      ],
      "execution_count": 15,
      "outputs": [
        {
          "name": "stdout",
          "output_type": "stream",
          "text": [
            "1\n",
            "1\n",
            "4\n",
            "5\n"
          ]
        },
        {
          "output_type": "execute_result",
          "data": {
            "text/plain": [
              "5.0"
            ]
          },
          "metadata": {},
          "execution_count": 15
        }
      ]
    },
    {
      "cell_type": "code",
      "metadata": {
        "colab": {
          "base_uri": "https://localhost:8080/"
        },
        "id": "mZgVR3nZQW_e",
        "outputId": "13a3b979-1464-46ab-8fbe-813c20045dea"
      },
      "source": [
        "#Задание №2\n",
        "\n",
        "A = [ 1, 2, 3, 4, 5 ]\n",
        "B = [ 3, 6, 8, 2, 5]\n",
        "C = []\n",
        "\n",
        "for i in range(len(A)):\n",
        "  if A[i]%2==0:\n",
        "    C.append(A[i] * B[i])\n",
        "    \n",
        "  elif A[i]%2==1:\n",
        "    C.append(A[i] + B[i])\n",
        "    \n",
        "print(C)"
      ],
      "execution_count": 64,
      "outputs": [
        {
          "output_type": "stream",
          "name": "stdout",
          "text": [
            "[4, 12, 11, 8, 10]\n"
          ]
        }
      ]
    },
    {
      "cell_type": "code",
      "metadata": {
        "colab": {
          "base_uri": "https://localhost:8080/"
        },
        "id": "CHmrFdyEZ1Ej",
        "outputId": "e9bdf10b-dd77-4e97-8420-55898a954651"
      },
      "source": [
        "#Задание №3\n",
        "\n",
        "import numpy as np\n",
        "\n",
        "x = np.array([1, 8, 4, 2, 5, 11, 23])\n",
        "min(x[1:])"
      ],
      "execution_count": 74,
      "outputs": [
        {
          "output_type": "execute_result",
          "data": {
            "text/plain": [
              "2"
            ]
          },
          "metadata": {},
          "execution_count": 74
        }
      ]
    }
  ]
}