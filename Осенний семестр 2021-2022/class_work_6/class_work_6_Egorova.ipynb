{
  "nbformat": 4,
  "nbformat_minor": 0,
  "metadata": {
    "colab": {
      "name": "class_work_6_Egorova",
      "provenance": []
    },
    "kernelspec": {
      "name": "python3",
      "display_name": "Python 3"
    },
    "language_info": {
      "name": "python"
    }
  },
  "cells": [
    {
      "cell_type": "code",
      "metadata": {
        "id": "1-19SHL036nh"
      },
      "source": [
        "import numpy as np\n",
        "import pandas as pd\n",
        "import matplotlib.pyplot as plt"
      ],
      "execution_count": null,
      "outputs": []
    },
    {
      "cell_type": "code",
      "metadata": {
        "colab": {
          "base_uri": "https://localhost:8080/"
        },
        "id": "C-cFrQqW4FJJ",
        "outputId": "7bb60ac7-4440-4c81-d4b1-f0a97493b043"
      },
      "source": [
        "#Задание №1\n",
        "\n",
        "def square(a):\n",
        "  p = a * 4\n",
        "  s = a * a\n",
        "  d = 2 ** (0.5) * a\n",
        "  return p, s, d\n",
        "print(square(int(input())))\n",
        "print()"
      ],
      "execution_count": 2,
      "outputs": [
        {
          "output_type": "stream",
          "name": "stdout",
          "text": [
            "4\n",
            "(16, 16, 5.656854249492381)\n",
            "\n"
          ]
        }
      ]
    },
    {
      "cell_type": "code",
      "metadata": {
        "colab": {
          "base_uri": "https://localhost:8080/"
        },
        "id": "_XTvztQC4P33",
        "outputId": "d2f90936-cdb8-4878-cef5-64e845c13148"
      },
      "source": [
        "#Задание №2\n",
        "\n",
        "a = list(map(int,input().split()))\n",
        "b = list(map(int,input().split()))\n",
        "c = []\n",
        "o = False\n",
        "for i in range(0,len(a)):\n",
        "  for j in range(0,len(b)):\n",
        "    if (a[i] == b[j]):\n",
        "      o = False\n",
        "      break\n",
        "    else:\n",
        "      o = True\n",
        "  if (o == True):\n",
        "    c.append(a[i])\n",
        "  o = False\n",
        "print(c)"
      ],
      "execution_count": 5,
      "outputs": [
        {
          "output_type": "stream",
          "name": "stdout",
          "text": [
            "4\n",
            "5\n",
            "[4]\n"
          ]
        }
      ]
    },
    {
      "cell_type": "code",
      "metadata": {
        "colab": {
          "base_uri": "https://localhost:8080/",
          "height": 252
        },
        "id": "h-cwQsBG45Bt",
        "outputId": "2e304ff8-453b-4767-ad07-903a56ee3d7b"
      },
      "source": [
        "#Задание №3\n",
        "\n",
        "x = list(map(int,input().split()))\n",
        "x = np.array(x)\n",
        "max = -1\n",
        "for i in range(1, len(x)):\n",
        "  if (x[i] >= max and x[i-1] == 0):\n",
        "    max = x[i]\n",
        "    p = i;\n",
        "if (max == -1 and x[p] != -1):\n",
        "  print('NO')\n",
        "else:\n",
        "  print(max)"
      ],
      "execution_count": 7,
      "outputs": [
        {
          "name": "stdout",
          "output_type": "stream",
          "text": [
            "5 5 5 5 \n"
          ]
        },
        {
          "output_type": "error",
          "ename": "NameError",
          "evalue": "ignored",
          "traceback": [
            "\u001b[0;31m---------------------------------------------------------------------------\u001b[0m",
            "\u001b[0;31mNameError\u001b[0m                                 Traceback (most recent call last)",
            "\u001b[0;32m<ipython-input-7-997bf2e03eaa>\u001b[0m in \u001b[0;36m<module>\u001b[0;34m()\u001b[0m\n\u001b[1;32m      2\u001b[0m \u001b[0;34m\u001b[0m\u001b[0m\n\u001b[1;32m      3\u001b[0m \u001b[0mx\u001b[0m \u001b[0;34m=\u001b[0m \u001b[0mlist\u001b[0m\u001b[0;34m(\u001b[0m\u001b[0mmap\u001b[0m\u001b[0;34m(\u001b[0m\u001b[0mint\u001b[0m\u001b[0;34m,\u001b[0m\u001b[0minput\u001b[0m\u001b[0;34m(\u001b[0m\u001b[0;34m)\u001b[0m\u001b[0;34m.\u001b[0m\u001b[0msplit\u001b[0m\u001b[0;34m(\u001b[0m\u001b[0;34m)\u001b[0m\u001b[0;34m)\u001b[0m\u001b[0;34m)\u001b[0m\u001b[0;34m\u001b[0m\u001b[0;34m\u001b[0m\u001b[0m\n\u001b[0;32m----> 4\u001b[0;31m \u001b[0mx\u001b[0m \u001b[0;34m=\u001b[0m \u001b[0mnp\u001b[0m\u001b[0;34m.\u001b[0m\u001b[0marray\u001b[0m\u001b[0;34m(\u001b[0m\u001b[0mx\u001b[0m\u001b[0;34m)\u001b[0m\u001b[0;34m\u001b[0m\u001b[0;34m\u001b[0m\u001b[0m\n\u001b[0m\u001b[1;32m      5\u001b[0m \u001b[0mmax\u001b[0m \u001b[0;34m=\u001b[0m \u001b[0;34m-\u001b[0m\u001b[0;36m1\u001b[0m\u001b[0;34m\u001b[0m\u001b[0;34m\u001b[0m\u001b[0m\n\u001b[1;32m      6\u001b[0m \u001b[0;32mfor\u001b[0m \u001b[0mi\u001b[0m \u001b[0;32min\u001b[0m \u001b[0mrange\u001b[0m\u001b[0;34m(\u001b[0m\u001b[0;36m1\u001b[0m\u001b[0;34m,\u001b[0m \u001b[0mlen\u001b[0m\u001b[0;34m(\u001b[0m\u001b[0mx\u001b[0m\u001b[0;34m)\u001b[0m\u001b[0;34m)\u001b[0m\u001b[0;34m:\u001b[0m\u001b[0;34m\u001b[0m\u001b[0;34m\u001b[0m\u001b[0m\n",
            "\u001b[0;31mNameError\u001b[0m: name 'np' is not defined"
          ]
        }
      ]
    },
    {
      "cell_type": "code",
      "metadata": {
        "id": "9kqxFjgF5Sck"
      },
      "source": [
        "#Задание №4.1\n",
        "\n",
        "df = pd.read_csv(\"C:\\\\Users\\\\user\\\\OneDrive\\\\Рабочий стол\\\\titanic.csv\")\n",
        "print(df)\n",
        "print(df['Age'].mean())\n",
        "print()"
      ],
      "execution_count": null,
      "outputs": []
    },
    {
      "cell_type": "code",
      "metadata": {
        "id": "nYD2-7Hp5a9r"
      },
      "source": [
        "#Задание №4.2\n",
        "\n",
        "X = ['0','1']\n",
        "Y = [len(df[df[' Survived'] == ' 0']), len(df[df[' Survived'] == ' 1'])]\n",
        "fig, ax = plt.setplots()\n",
        "ax.bar(X, Y)\n",
        "plt.show()"
      ],
      "execution_count": null,
      "outputs": []
    },
    {
      "cell_type": "code",
      "metadata": {
        "id": "vaOjGuX75mav"
      },
      "source": [
        "#Задание №4.3\n",
        "\n",
        "print(df.isna().sum().sum())"
      ],
      "execution_count": null,
      "outputs": []
    },
    {
      "cell_type": "code",
      "metadata": {
        "id": "OVOndtTE5yEM"
      },
      "source": [
        "#Задание №4.4\n",
        "\n",
        "print(df[df['Fare'].max()])"
      ],
      "execution_count": null,
      "outputs": []
    }
  ]
}