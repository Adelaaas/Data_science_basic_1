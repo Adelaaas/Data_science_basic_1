{
  "nbformat": 4,
  "nbformat_minor": 0,
  "metadata": {
    "colab": {
      "name": "Untitled0.ipynb",
      "provenance": []
    },
    "kernelspec": {
      "name": "python3",
      "display_name": "Python 3"
    },
    "language_info": {
      "name": "python"
    }
  },
  "cells": [
    {
      "cell_type": "code",
      "metadata": {
        "colab": {
          "base_uri": "https://localhost:8080/"
        },
        "id": "Sc33Sj90ZgCN",
        "outputId": "8a911564-88fd-4a43-ddaf-79eec3b66efe"
      },
      "source": [
        "# Задача 1\n",
        "example = [1, 2, 3, 4, 5, 6, 7]\n",
        "for i in example:\n",
        "  if i % 2 == 0:\n",
        "    a1 = i\n",
        "    a2 = [i]*i\n",
        "    print(a1, a2)"
      ],
      "execution_count": 9,
      "outputs": [
        {
          "output_type": "stream",
          "name": "stdout",
          "text": [
            "2 [2, 2]\n",
            "4 [4, 4, 4, 4]\n",
            "6 [6, 6, 6, 6, 6, 6]\n"
          ]
        }
      ]
    },
    {
      "cell_type": "code",
      "metadata": {
        "colab": {
          "base_uri": "https://localhost:8080/"
        },
        "id": "UXLTbhZqbYCp",
        "outputId": "99ed1eee-4bbd-41ef-fd7d-b0ef6ca3c60e"
      },
      "source": [
        "#Задача 2\n",
        "x = int(input())\n",
        "y = int(input())\n",
        "\n",
        "if (x>=-1)and(x<=1)and(y>=-1)and(y<=1):\n",
        "  print (\"yes\")\n",
        "else:\n",
        "  print (\"no\")"
      ],
      "execution_count": 13,
      "outputs": [
        {
          "output_type": "stream",
          "name": "stdout",
          "text": [
            "0\n",
            "4\n",
            "no\n"
          ]
        }
      ]
    },
    {
      "cell_type": "code",
      "metadata": {
        "colab": {
          "base_uri": "https://localhost:8080/"
        },
        "id": "rLcA9LFRcl0x",
        "outputId": "956eacbb-e214-4eb8-ef67-ccdb9082a094"
      },
      "source": [
        "# Задача 3\n",
        "A = [1, 2, 3, 4, 5, 6, 7, 8, 9, 10]\n",
        "B =[]\n",
        "for i in A:\n",
        "  if i % 2 == 0:\n",
        "    B.append(i)\n",
        "print (B)"
      ],
      "execution_count": 16,
      "outputs": [
        {
          "output_type": "stream",
          "name": "stdout",
          "text": [
            "[2, 4, 6, 8, 10]\n"
          ]
        }
      ]
    },
    {
      "cell_type": "code",
      "metadata": {
        "colab": {
          "base_uri": "https://localhost:8080/"
        },
        "id": "dDbHKNpOdofw",
        "outputId": "a3518b79-8965-4615-b34c-7662852f2360"
      },
      "source": [
        "# Задача 4\n",
        "name = input()\n",
        "print (f'Привет, {name}!')"
      ],
      "execution_count": 18,
      "outputs": [
        {
          "output_type": "stream",
          "name": "stdout",
          "text": [
            "Петя\n",
            "Привет, Петя!\n"
          ]
        }
      ]
    },
    {
      "cell_type": "code",
      "metadata": {
        "colab": {
          "base_uri": "https://localhost:8080/"
        },
        "id": "fDr-JNqreUsF",
        "outputId": "c11e109d-858a-4392-d901-264c2b04945a"
      },
      "source": [
        "# Задача 5\n",
        "n = int(input())\n",
        "print (f'The next number for the number {n} is {n+1}. The previous number for the number {n} is {n-1}.')"
      ],
      "execution_count": 25,
      "outputs": [
        {
          "output_type": "stream",
          "name": "stdout",
          "text": [
            "265\n",
            "The next number for the number 265 is 266. The previous number for the number 265 is 264.\n"
          ]
        }
      ]
    }
  ]
}