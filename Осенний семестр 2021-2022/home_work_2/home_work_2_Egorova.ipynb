{
  "nbformat": 4,
  "nbformat_minor": 0,
  "metadata": {
    "colab": {
      "name": "home_work_2_Egorova",
      "provenance": []
    },
    "kernelspec": {
      "name": "python3",
      "display_name": "Python 3"
    },
    "language_info": {
      "name": "python"
    }
  },
  "cells": [
    {
      "cell_type": "code",
      "metadata": {
        "colab": {
          "base_uri": "https://localhost:8080/"
        },
        "id": "K1ldsnHVNbKj",
        "outputId": "046c6f77-f7ea-43b1-f2da-0869c8ae79cc"
      },
      "source": [
        "#Задача №1\n",
        "\n",
        "def distance (x1, x2, y1, y2):\n",
        "  d = (((x1 - x2)**2) + ((y1 - y2)**2))**0.5\n",
        "  return d\n",
        "x1 = int(input())\n",
        "y1 = int(input())\n",
        "x2 = int(input())\n",
        "y2 = int(input())\n",
        "distance(x1, y1, x2, y2)"
      ],
      "execution_count": 7,
      "outputs": [
        {
          "name": "stdout",
          "output_type": "stream",
          "text": [
            "2\n",
            "3\n",
            "4\n",
            "5\n"
          ]
        },
        {
          "output_type": "execute_result",
          "data": {
            "text/plain": [
              "1.4142135623730951"
            ]
          },
          "metadata": {},
          "execution_count": 7
        }
      ]
    },
    {
      "cell_type": "code",
      "metadata": {
        "colab": {
          "base_uri": "https://localhost:8080/"
        },
        "id": "jSHzMRxUN8NR",
        "outputId": "cb92073d-838d-438a-b6eb-eed7041e266b"
      },
      "source": [
        "#Задача №2\n",
        "\n",
        "month = int(input())\n",
        "s = \"\"\n",
        "def season(month):\n",
        "  global s\n",
        "  if month == 12 or month == 1 or month == 2:\n",
        "    s = 'Зима'\n",
        "  elif month == 3 or month == 4 or month == 5:\n",
        "    s = 'Весна'\n",
        "  elif month == 6 or month == 7 or month == 8:\n",
        "    s = 'Лето'\n",
        "  elif month == 9 or month == 10 or month == 11:\n",
        "    s = 'Осень'\n",
        "  print(s)\n",
        "season(month)\n"
      ],
      "execution_count": 9,
      "outputs": [
        {
          "output_type": "stream",
          "name": "stdout",
          "text": [
            "4\n",
            "Весна\n"
          ]
        }
      ]
    },
    {
      "cell_type": "code",
      "metadata": {
        "colab": {
          "base_uri": "https://localhost:8080/"
        },
        "id": "WYF-6mX_QJ5P",
        "outputId": "effafd51-3f40-4f0c-c562-4ebb4f7734ab"
      },
      "source": [
        "#Задача №3\n",
        "\n",
        "def prime(num):\n",
        "    for i in range(2, num):\n",
        "        if num % i == 0:\n",
        "            return False\n",
        "    else:\n",
        "        return True\n",
        "\n",
        "num = int(input())\n",
        "prime(num)"
      ],
      "execution_count": 12,
      "outputs": [
        {
          "name": "stdout",
          "output_type": "stream",
          "text": [
            "12\n"
          ]
        },
        {
          "output_type": "execute_result",
          "data": {
            "text/plain": [
              "False"
            ]
          },
          "metadata": {},
          "execution_count": 12
        }
      ]
    },
    {
      "cell_type": "code",
      "metadata": {
        "colab": {
          "base_uri": "https://localhost:8080/"
        },
        "id": "30JhuucUQdCJ",
        "outputId": "6362f9aa-01bf-4212-85dc-e9e95031842a"
      },
      "source": [
        "#Задача 4\n",
        "\n",
        "def list_reverse(a):\n",
        "  a = a[:: -1]\n",
        "  print(a)\n",
        "lst = [1, 2, 3, 4]\n",
        "list_reverse(lst)"
      ],
      "execution_count": 15,
      "outputs": [
        {
          "output_type": "stream",
          "name": "stdout",
          "text": [
            "[4, 3, 2, 1]\n"
          ]
        }
      ]
    },
    {
      "cell_type": "code",
      "metadata": {
        "colab": {
          "base_uri": "https://localhost:8080/"
        },
        "id": "czRdJr70Q8aj",
        "outputId": "5ad83bc1-8915-490a-ccf9-d964e494c296"
      },
      "source": [
        "#Задача 5\n",
        "\n",
        "s = \"Привет мир!\"\n",
        "s = s[3:9].upper()\n",
        "print(s)"
      ],
      "execution_count": 22,
      "outputs": [
        {
          "output_type": "stream",
          "name": "stdout",
          "text": [
            "ВЕТ МИ\n"
          ]
        }
      ]
    },
    {
      "cell_type": "code",
      "metadata": {
        "colab": {
          "base_uri": "https://localhost:8080/"
        },
        "id": "uiG8G_9bRfp1",
        "outputId": "a57aeb25-961f-4253-bee9-ad42a475700a"
      },
      "source": [
        "#Задача 6\n",
        "\n",
        "x = [0, 1, 2, 3, 4, 5, 6, 7, 8, 9]\n",
        "ans = []\n",
        "for i in range (len(x)):\n",
        "    if i % 2 != 0:\n",
        "        if len(x) % 2 == 0:\n",
        "            ans.append(x[len(x)-i])\n",
        "        else:\n",
        "            ans.append(x[len(x)-i-1])\n",
        "    else:\n",
        "        ans.append(x[i])\n",
        "print(ans)\n"
      ],
      "execution_count": 23,
      "outputs": [
        {
          "output_type": "stream",
          "name": "stdout",
          "text": [
            "[0, 9, 2, 7, 4, 5, 6, 3, 8, 1]\n"
          ]
        }
      ]
    },
    {
      "cell_type": "code",
      "metadata": {
        "colab": {
          "base_uri": "https://localhost:8080/"
        },
        "id": "QN2YHFvmRq2M",
        "outputId": "67769385-6466-419a-8e29-70cacdf00de0"
      },
      "source": [
        "#Задача 7\n",
        "\n",
        "for i in range(501):\n",
        "  a = i\n",
        "  b = 0\n",
        "  if i % 7 == 0:\n",
        "    while a != 0:\n",
        "      b = b + 1\n",
        "      a = a // 10\n",
        "    a = i\n",
        "    for j in range(b):\n",
        "      if (a % 10 == 8):\n",
        "        print(i)\n",
        "        break\n",
        "      a = a // 10"
      ],
      "execution_count": 24,
      "outputs": [
        {
          "output_type": "stream",
          "name": "stdout",
          "text": [
            "28\n",
            "84\n",
            "98\n",
            "168\n",
            "182\n",
            "189\n",
            "238\n",
            "280\n",
            "287\n",
            "308\n",
            "378\n",
            "385\n",
            "448\n",
            "483\n"
          ]
        }
      ]
    },
    {
      "cell_type": "code",
      "metadata": {
        "colab": {
          "base_uri": "https://localhost:8080/"
        },
        "id": "wGSa80_4RuB_",
        "outputId": "f0fd2c24-9203-4516-83c7-8208e37d46f9"
      },
      "source": [
        "#Задача 8\n",
        "\n",
        "def more_than_five(lst):\n",
        "  for i in range(len(lst)):\n",
        "    if abs(lst[i]) > 10:\n",
        "      lst1.append(lst[i])\n",
        "  print(lst1)\n",
        "\n",
        "lst = [12, 15, 2, 31, -4, -25, 6, 10, -10, 0]\n",
        "lst1 = []\n",
        "more_than_five(lst)"
      ],
      "execution_count": 25,
      "outputs": [
        {
          "output_type": "stream",
          "name": "stdout",
          "text": [
            "[12, 15, 31, -25]\n"
          ]
        }
      ]
    }
  ]
}