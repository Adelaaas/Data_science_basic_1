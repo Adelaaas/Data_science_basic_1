{
  "nbformat": 4,
  "nbformat_minor": 0,
  "metadata": {
    "colab": {
      "name": "Untitled0.ipynb",
      "provenance": []
    },
    "kernelspec": {
      "name": "python3",
      "display_name": "Python 3"
    },
    "language_info": {
      "name": "python"
    }
  },
  "cells": [
    {
      "cell_type": "code",
      "metadata": {
        "colab": {
          "base_uri": "https://localhost:8080/"
        },
        "id": "3RNuEDHush7w",
        "outputId": "37546e88-f12a-4f22-f97a-63f33f49c5aa"
      },
      "source": [
        "name = ['n', 'a', 's', 't', 'y', 'a', 16]\n",
        "print(name[1: 6])\n",
        "\n",
        "name.append('10С')\n",
        "print(name)\n",
        "\n",
        "surname = 'Ovchinnikova'\n",
        "a = list(surname)\n",
        "print(name+a)"
      ],
      "execution_count": 24,
      "outputs": [
        {
          "output_type": "stream",
          "name": "stdout",
          "text": [
            "['a', 's', 't', 'y', 'a']\n",
            "['n', 'a', 's', 't', 'y', 'a', 16, '10С']\n",
            "['n', 'a', 's', 't', 'y', 'a', 16, '10С', 'O', 'v', 'c', 'h', 'i', 'n', 'n', 'i', 'k', 'o', 'v', 'a']\n"
          ]
        }
      ]
    }
  ]
}