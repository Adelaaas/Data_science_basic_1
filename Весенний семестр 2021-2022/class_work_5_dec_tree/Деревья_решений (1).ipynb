{
  "nbformat": 4,
  "nbformat_minor": 0,
  "metadata": {
    "colab": {
      "name": "Деревья решений.ipynb",
      "provenance": []
    },
    "kernelspec": {
      "name": "python3",
      "display_name": "Python 3"
    }
  },
  "cells": [
    {
      "cell_type": "markdown",
      "metadata": {
        "id": "-7jP7Mcnid3y"
      },
      "source": [
        "# Деревья решения\n",
        "\n",
        "Дерево решений - простой метод машинного обучения с учителем для задач классификации и регрессии.\n",
        "\n",
        "Как выглядит простое дерево решений:\n",
        "\n",
        "![1949b6ae97ab4fc9b1a37fbf182eda8f.gif](data:image/gif;base64,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)"
      ]
    },
    {
      "cell_type": "markdown",
      "metadata": {
        "id": "dO79K0eCjZIm"
      },
      "source": [
        "\n",
        "В листьях содержиться значение целевой переменной (дали кредит/не дали, выжил/не выжил, котик/сабачка/птичка и так далее)\n",
        "\n",
        "В узлах дерева содержиться признаки\n",
        "\n",
        "На ребре содержиться значение признака\n",
        "\n",
        "Корневой узел выбирается так, чтобы было наилучшее разбиение. Наилучшим разбиением считается такое, которое максимально уменьшает значение энтропии.\n",
        "\n"
      ]
    },
    {
      "cell_type": "markdown",
      "metadata": {
        "id": "Rdqv9hQfnS-W"
      },
      "source": [
        "Параметры дерева.\n",
        "\n",
        "- criterion: какой критерий для разбиения использовать (коэффицент джини или энтропию)\n",
        "\n",
        "- max_depth: максимальная глубина дерева — точка, на которой останавливается разбиение узлов. Это похоже на выбор максимального количества слоев в глубокой нейронной сети. Меньшее количество сделает модель быстрой, но не точной. Большее количество увеличивает точность, но создает риски переобучения и замедляет процесс.\n",
        "\n",
        "- min_samples_split: необходимое минимальное количество выборок для разбиения узлов. Мы уже обсуждали это выше вместе с тем, как настроить высокое значение, чтобы минимизировать переобучение.\n",
        "\n",
        "- max_features: число признаков для поиска лучшей точки для разбиения. Чем больше число, тем лучше результат. Но в этом случае обучение займет больше времени.\n",
        "\n",
        "- min_impurity_split: порог для ранней остановки роста дерева. Узел разобьется только в том случае, если его точность будет выше указанного порога. Такой метод может служить в качестве компромисса между минимизацией переобучения (высокое значение, маленькое дерево) и высокой точностью (низкое значение, большое дерево).\n",
        "\n",
        "- presort: выбор того, нужно ли предварительно сортировать данные для ускорения поиска наилучшего разбиения при подборе. Если данные заранее отсортируются по каждому признаку, то алгоритму обучения будет гораздо проще найти хорошие значения для разбиения.-"
      ]
    },
    {
      "cell_type": "code",
      "metadata": {
        "colab": {
          "resources": {
            "http://localhost:8080/nbextensions/google.colab/files.js": {
              "data": "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",
              "ok": true,
              "headers": [
                [
                  "content-type",
                  "application/javascript"
                ]
              ],
              "status": 200,
              "status_text": ""
            }
          },
          "base_uri": "https://localhost:8080/",
          "height": 72
        },
        "id": "EfZQFvjfibrF",
        "outputId": "d2fa78e1-1928-4a4c-b76a-b6fb7658d129"
      },
      "source": [
        "from google.colab import files\n",
        "uploaded = files.upload()"
      ],
      "execution_count": null,
      "outputs": [
        {
          "output_type": "display_data",
          "data": {
            "text/html": [
              "\n",
              "     <input type=\"file\" id=\"files-e07f4871-17d9-4d89-8b57-93b0dddeb5b3\" name=\"files[]\" multiple disabled\n",
              "        style=\"border:none\" />\n",
              "     <output id=\"result-e07f4871-17d9-4d89-8b57-93b0dddeb5b3\">\n",
              "      Upload widget is only available when the cell has been executed in the\n",
              "      current browser session. Please rerun this cell to enable.\n",
              "      </output>\n",
              "      <script src=\"/nbextensions/google.colab/files.js\"></script> "
            ],
            "text/plain": [
              "<IPython.core.display.HTML object>"
            ]
          },
          "metadata": {
            "tags": []
          }
        },
        {
          "output_type": "stream",
          "text": [
            "Saving diabetes.csv to diabetes.csv\n"
          ],
          "name": "stdout"
        }
      ]
    },
    {
      "cell_type": "code",
      "metadata": {
        "colab": {
          "base_uri": "https://localhost:8080/",
          "height": 419
        },
        "id": "ekawcfQsmAU0",
        "outputId": "83e57f97-94d6-4c7a-f62a-65f27b397207"
      },
      "source": [
        "import pandas as pd\n",
        "\n",
        "df = pd.read_csv(\"diabetes.csv\")\n",
        "df"
      ],
      "execution_count": null,
      "outputs": [
        {
          "output_type": "execute_result",
          "data": {
            "text/html": [
              "<div>\n",
              "<style scoped>\n",
              "    .dataframe tbody tr th:only-of-type {\n",
              "        vertical-align: middle;\n",
              "    }\n",
              "\n",
              "    .dataframe tbody tr th {\n",
              "        vertical-align: top;\n",
              "    }\n",
              "\n",
              "    .dataframe thead th {\n",
              "        text-align: right;\n",
              "    }\n",
              "</style>\n",
              "<table border=\"1\" class=\"dataframe\">\n",
              "  <thead>\n",
              "    <tr style=\"text-align: right;\">\n",
              "      <th></th>\n",
              "      <th>Pregnancies</th>\n",
              "      <th>Glucose</th>\n",
              "      <th>BloodPressure</th>\n",
              "      <th>SkinThickness</th>\n",
              "      <th>Insulin</th>\n",
              "      <th>BMI</th>\n",
              "      <th>DiabetesPedigreeFunction</th>\n",
              "      <th>Age</th>\n",
              "      <th>Outcome</th>\n",
              "    </tr>\n",
              "  </thead>\n",
              "  <tbody>\n",
              "    <tr>\n",
              "      <th>0</th>\n",
              "      <td>6</td>\n",
              "      <td>148</td>\n",
              "      <td>72</td>\n",
              "      <td>35</td>\n",
              "      <td>0</td>\n",
              "      <td>33.6</td>\n",
              "      <td>0.627</td>\n",
              "      <td>50</td>\n",
              "      <td>1</td>\n",
              "    </tr>\n",
              "    <tr>\n",
              "      <th>1</th>\n",
              "      <td>1</td>\n",
              "      <td>85</td>\n",
              "      <td>66</td>\n",
              "      <td>29</td>\n",
              "      <td>0</td>\n",
              "      <td>26.6</td>\n",
              "      <td>0.351</td>\n",
              "      <td>31</td>\n",
              "      <td>0</td>\n",
              "    </tr>\n",
              "    <tr>\n",
              "      <th>2</th>\n",
              "      <td>8</td>\n",
              "      <td>183</td>\n",
              "      <td>64</td>\n",
              "      <td>0</td>\n",
              "      <td>0</td>\n",
              "      <td>23.3</td>\n",
              "      <td>0.672</td>\n",
              "      <td>32</td>\n",
              "      <td>1</td>\n",
              "    </tr>\n",
              "    <tr>\n",
              "      <th>3</th>\n",
              "      <td>1</td>\n",
              "      <td>89</td>\n",
              "      <td>66</td>\n",
              "      <td>23</td>\n",
              "      <td>94</td>\n",
              "      <td>28.1</td>\n",
              "      <td>0.167</td>\n",
              "      <td>21</td>\n",
              "      <td>0</td>\n",
              "    </tr>\n",
              "    <tr>\n",
              "      <th>4</th>\n",
              "      <td>0</td>\n",
              "      <td>137</td>\n",
              "      <td>40</td>\n",
              "      <td>35</td>\n",
              "      <td>168</td>\n",
              "      <td>43.1</td>\n",
              "      <td>2.288</td>\n",
              "      <td>33</td>\n",
              "      <td>1</td>\n",
              "    </tr>\n",
              "    <tr>\n",
              "      <th>...</th>\n",
              "      <td>...</td>\n",
              "      <td>...</td>\n",
              "      <td>...</td>\n",
              "      <td>...</td>\n",
              "      <td>...</td>\n",
              "      <td>...</td>\n",
              "      <td>...</td>\n",
              "      <td>...</td>\n",
              "      <td>...</td>\n",
              "    </tr>\n",
              "    <tr>\n",
              "      <th>763</th>\n",
              "      <td>10</td>\n",
              "      <td>101</td>\n",
              "      <td>76</td>\n",
              "      <td>48</td>\n",
              "      <td>180</td>\n",
              "      <td>32.9</td>\n",
              "      <td>0.171</td>\n",
              "      <td>63</td>\n",
              "      <td>0</td>\n",
              "    </tr>\n",
              "    <tr>\n",
              "      <th>764</th>\n",
              "      <td>2</td>\n",
              "      <td>122</td>\n",
              "      <td>70</td>\n",
              "      <td>27</td>\n",
              "      <td>0</td>\n",
              "      <td>36.8</td>\n",
              "      <td>0.340</td>\n",
              "      <td>27</td>\n",
              "      <td>0</td>\n",
              "    </tr>\n",
              "    <tr>\n",
              "      <th>765</th>\n",
              "      <td>5</td>\n",
              "      <td>121</td>\n",
              "      <td>72</td>\n",
              "      <td>23</td>\n",
              "      <td>112</td>\n",
              "      <td>26.2</td>\n",
              "      <td>0.245</td>\n",
              "      <td>30</td>\n",
              "      <td>0</td>\n",
              "    </tr>\n",
              "    <tr>\n",
              "      <th>766</th>\n",
              "      <td>1</td>\n",
              "      <td>126</td>\n",
              "      <td>60</td>\n",
              "      <td>0</td>\n",
              "      <td>0</td>\n",
              "      <td>30.1</td>\n",
              "      <td>0.349</td>\n",
              "      <td>47</td>\n",
              "      <td>1</td>\n",
              "    </tr>\n",
              "    <tr>\n",
              "      <th>767</th>\n",
              "      <td>1</td>\n",
              "      <td>93</td>\n",
              "      <td>70</td>\n",
              "      <td>31</td>\n",
              "      <td>0</td>\n",
              "      <td>30.4</td>\n",
              "      <td>0.315</td>\n",
              "      <td>23</td>\n",
              "      <td>0</td>\n",
              "    </tr>\n",
              "  </tbody>\n",
              "</table>\n",
              "<p>768 rows × 9 columns</p>\n",
              "</div>"
            ],
            "text/plain": [
              "     Pregnancies  Glucose  ...  Age  Outcome\n",
              "0              6      148  ...   50        1\n",
              "1              1       85  ...   31        0\n",
              "2              8      183  ...   32        1\n",
              "3              1       89  ...   21        0\n",
              "4              0      137  ...   33        1\n",
              "..           ...      ...  ...  ...      ...\n",
              "763           10      101  ...   63        0\n",
              "764            2      122  ...   27        0\n",
              "765            5      121  ...   30        0\n",
              "766            1      126  ...   47        1\n",
              "767            1       93  ...   23        0\n",
              "\n",
              "[768 rows x 9 columns]"
            ]
          },
          "metadata": {
            "tags": []
          },
          "execution_count": 3
        }
      ]
    },
    {
      "cell_type": "code",
      "metadata": {
        "id": "1t4k3ymVmFKL"
      },
      "source": [
        "#выделим вектор ответов и вектор признаков\n",
        "X = df.drop(['Outcome'], axis = 1)\n",
        "y = df['Outcome']"
      ],
      "execution_count": null,
      "outputs": []
    },
    {
      "cell_type": "code",
      "metadata": {
        "id": "2b5Dezq-mOBI"
      },
      "source": [
        "from sklearn.tree import DecisionTreeClassifier\n",
        "# DecisionTreeRegression\n",
        "from sklearn.model_selection import train_test_split\n",
        "\n",
        "X_train,X_test,y_train,y_test = train_test_split(X, y, test_size=1/3, random_state=42)\n",
        "\n",
        "tree = DecisionTreeClassifier(criterion='gini', max_depth=4, random_state=1)\n",
        "# model = LogistiResression()\n",
        "# knn = KNearestNeighbor()\n",
        "\n",
        "tree.fit(X_train, y_train)\n",
        "y_pred_tree = tree.predict(X_test)\n",
        "\n",
        "# новый столбеу с ответами\n",
        "test['name'] = y_pred_tree\n",
        "\n",
        "test.to_csv('name.csv',index=False)\n",
        "files.download(\"name.csv\")"
      ],
      "execution_count": null,
      "outputs": []
    },
    {
      "cell_type": "code",
      "metadata": {
        "colab": {
          "base_uri": "https://localhost:8080/"
        },
        "id": "_UHAUn5vmg3z",
        "outputId": "febfb56b-f7a9-4dca-897b-4b071fa11a11"
      },
      "source": [
        "from sklearn.metrics import accuracy_score\n",
        "from sklearn.metrics import recall_score\n",
        "from sklearn.metrics import precision_score\n",
        "\n",
        "print(\"Accuracy:\", accuracy_score(y_test,y_pred_tree))\n",
        "print(\"Recall:\", recall_score(y_test,y_pred_tree))\n",
        "print(\"Precision:\", precision_score(y_test,y_pred_tree))"
      ],
      "execution_count": null,
      "outputs": [
        {
          "output_type": "stream",
          "text": [
            "Accuracy: 0.72265625\n",
            "Recall: 0.7209302325581395\n",
            "Precision: 0.5688073394495413\n"
          ],
          "name": "stdout"
        }
      ]
    },
    {
      "cell_type": "markdown",
      "metadata": {
        "id": "MeLfRj7se4ib"
      },
      "source": [
        "# Улучшение работы моделей\n",
        "\n",
        "Кроссвалидация\n",
        "\n",
        "Главная задача обучаемых алгоритмов – их способность обобщаться, то есть хорошо работать на новых данных. Поскольку на новых данных мы сразу не можем проверить качество построенной модели (нам ведь надо для них сделать прогноз, то есть истинных значений целевого признака мы для них не знаем), то надо пожертвовать небольшой порцией данных, чтоб на ней проверить качество модели.\n",
        "\n",
        "Чаще всего это делается одним из 2 способов:\n",
        "- отложенная выборка (held-out/hold-out set). При таком подходе мы оставляем какую-то долю обучающей выборки (как правило от 20% до 40%), обучаем модель на остальных данных (60-80% исходной выборки) и считаем некоторую метрику качества модели (например, самое простое – долю правильных ответов в задаче классификации) на отложенной выборке.\n",
        "В основном с помощью метода train_test_split делим данные на две части\n",
        "- кросс-валидация (cross-validation, на русский еще переводят как скользящий или перекрестный контроль). Тут самый частый случай – K-fold кросс-валидация\n",
        "\n",
        "![b1d706e6c9df49c297b6152878a2d03f.png](data:image/png;base64,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)"
      ]
    },
    {
      "cell_type": "markdown",
      "metadata": {
        "id": "77qcj4xtf3H3"
      },
      "source": [
        "Тут модель обучается  раз на разных () подвыборках исходной выборки (белый цвет), а проверяется на одной подвыборке (каждый раз на разной, оранжевый цвет).\n",
        "Получаются  оценок качества модели, которые обычно усредняются, выдавая среднюю оценку качества классификации/регрессии на кросс-валидации.\n",
        "\n",
        "\n",
        "Кросс-валидация дает лучшую по сравнению с отложенной выборкой оценку качества модели на новых данных. Но кросс-валидация вычислительно дорогостоящая, если данных много.\n",
        "\n"
      ]
    },
    {
      "cell_type": "code",
      "metadata": {
        "colab": {
          "base_uri": "https://localhost:8080/"
        },
        "id": "EdlO8Ccsf-gO",
        "outputId": "eefe645b-6915-4df5-ea02-10b81d35740f"
      },
      "source": [
        "from sklearn.model_selection import cross_val_score\n",
        "from sklearn.model_selection import KFold\n",
        "\n",
        "# KFold divides all the samples in  groups of samples, called folds\n",
        "# (if , this is equivalent to the Leave One Out strategy), of equal sizes (if possible)\n",
        "\n",
        "# The simplest way to use cross-validation is to call the cross_val_score helper function on the estimator and the dataset.\n",
        "# cross_val_score - возвращает массив оценок для каждого варианта разиения, \n",
        "# оценка модели в данном случае - это среднее\n",
        "\n",
        "# n-splits - количество фолдов на которые хотим разделить\n",
        "# shuffle - перемещать данные перед разбиение или нет\n",
        "kf = KFold(n_splits=5)\n",
        "\n",
        "# создаем модель \n",
        "tree = DecisionTreeClassifier(criterion='gini', max_depth=4, random_state=1)\n",
        "# log = LogisticRegression()\n",
        "# создаем кросс валидацию\n",
        "# estimator - модель для которой применить кросс валидацию (логистическая регрессия, knn, дерево решений и т.д.)\n",
        "# X - вектор признаков\n",
        "# y - вектор ответов\n",
        "# cv - параметры разбиения на фолды\n",
        "# scoring - оценка по который оценить модель\n",
        "cvs = cross_val_score(estimator=tree, X=X, y=y, cv=kf, scoring='accuracy')\n",
        "\n",
        "print(cvs)\n",
        "print(cvs.mean())"
      ],
      "execution_count": null,
      "outputs": [
        {
          "output_type": "stream",
          "text": [
            "[0.73376623 0.65584416 0.78571429 0.82352941 0.7254902 ]\n",
            "0.7448688566335624\n"
          ],
          "name": "stdout"
        }
      ]
    },
    {
      "cell_type": "markdown",
      "metadata": {
        "id": "1_UcNTRJlSrb"
      },
      "source": [
        "Полезные ссылки:\n",
        "\n",
        "- про k-fold:\n",
        "\n",
        "https://towardsdatascience.com/complete-guide-to-pythons-cross-validation-with-examples-a9676b5cac12\n",
        "\n",
        "- про модели классификации (тут и дерево решений, и метод соседей и логистическа). ***Рекомендую прочитать!***\n",
        "\n",
        "https://nagornyy.me/courses/data-science/classification/\n",
        "\n",
        "- про кросс валидацию\n",
        "\n",
        "https://scikit-learn.org/stable/modules/cross_validation.html\n"
      ]
    }
  ]
}